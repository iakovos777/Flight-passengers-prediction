{
 "cells": [
  {
   "cell_type": "code",
   "execution_count": null,
   "metadata": {},
   "outputs": [],
   "source": [
    "import pandas as pd\n",
    "\n",
    "df_train = pd.read_csv('ntrain.csv')\n",
    "df_train.head()"
   ]
  },
  {
   "cell_type": "code",
   "execution_count": null,
   "metadata": {},
   "outputs": [],
   "source": [
    "#Ftiaxnei ta dunamosunola\n",
    "def powerset(seq):\n",
    "    #counter = 0\n",
    "    if len(seq) <= 1:\n",
    "        yield seq\n",
    "        yield []\n",
    "    else:\n",
    "        for item in powerset(seq[1:]):\n",
    "            yield [seq[0]]+item\n",
    "            yield item\n",
    "            #couter += 1\n",
    "    #print(counter)\n"
   ]
  },
  {
   "cell_type": "code",
   "execution_count": null,
   "metadata": {},
   "outputs": [],
   "source": [
    "l = [0, 1, 2, 3, 4, 5, 6, 7]\n",
    "r = [x for x in powerset(l)]\n",
    "r.sort()\n",
    "print(r)\n",
    "print(r[0])"
   ]
  },
  {
   "cell_type": "code",
   "execution_count": null,
   "metadata": {},
   "outputs": [],
   "source": [
    "import numpy as np\n",
    "\n",
    "def whoTodrop(i):\n",
    "    columns=[];\n",
    "    for k in range(8):\n",
    "           for j in range(len(r[i])):\n",
    "                if(k!=r[i][j]):\n",
    "                    columns.append(k)\n",
    "    return columns "
   ]
  },
  {
   "cell_type": "code",
   "execution_count": null,
   "metadata": {},
   "outputs": [],
   "source": [
    "df_test = pd.read_csv('ntest.csv')\n",
    "y_train = df_train[['PAX']]\n",
    "from sklearn.model_selection import train_test_split\n",
    "df_train, df_test, y_train, y_test = train_test_split(df_train, y_train, test_size=0.2, random_state=42)\n",
    "y_train = np.ravel(y_train)\n",
    "from sklearn.preprocessing import LabelEncoder\n",
    "le = LabelEncoder()\n",
    "le.fit(df_train['Departure'])\n",
    "df_train['Departure'] = le.transform(df_train['Departure'])\n",
    "df_train['Arrival'] = le.transform(df_train['Arrival'])\n",
    "df_test['Departure'] = le.transform(df_test['Departure'])\n",
    "df_test['Arrival'] = le.transform(df_test['Arrival'])\n",
    "le.fit(df_train['CityDeparture'])\n",
    "df_train['CityDeparture'] = le.transform(df_train['CityDeparture'])\n",
    "df_train['CityArrival'] = le.transform(df_train['CityArrival'])\n",
    "df_test['CityDeparture'] = le.transform(df_test['CityDeparture'])\n",
    "df_test['CityArrival'] = le.transform(df_test['CityArrival'])\n",
    "le = LabelEncoder()\n",
    "le.fit(df_train['DateOfDeparture'])\n",
    "df_train['DateOfDeparture'] = le.transform(df_train['DateOfDeparture'])\n",
    "df_test['DateOfDeparture'] = le.transform(df_test['DateOfDeparture'])\n",
    "print(df_train)"
   ]
  },
  {
   "cell_type": "code",
   "execution_count": null,
   "metadata": {},
   "outputs": [],
   "source": [
    "#TEST\n",
    "df_train.columns.get_loc('Departure')"
   ]
  },
  {
   "cell_type": "code",
   "execution_count": null,
   "metadata": {},
   "outputs": [],
   "source": [
    "def findCateg(i):\n",
    "    catf =[];\n",
    "    t0 = 0\n",
    "    t1 = 0\n",
    "    t2 = 0\n",
    "    t3 = 0\n",
    "    t4 = 0\n",
    "    for k in range(len(r[i])):\n",
    "        if(r[i][k]==1):\n",
    "            t1 = 1\n",
    "        elif(r[i][k]==2):\n",
    "            t2 = 1\n",
    "        elif(r[i][k]==3):\n",
    "            t3 = 1\n",
    "        elif(r[i][k]==4):\n",
    "            t4 = 1\n",
    "        elif(r[i][k]==0):\n",
    "            t0 = 1\n",
    "    if(t0==0):\n",
    "        ind0=dfTr.columns.get_loc('DateOfDeparture')\n",
    "        catf.append(ind0)\n",
    "    if(t1==0):\n",
    "        ind0=dfTr.columns.get_loc('Departure')\n",
    "        catf.append(ind0)\n",
    "    if(t2==0):\n",
    "        ind0=dfTr.columns.get_loc('CityDeparture')\n",
    "        catf.append(ind0)\n",
    "    if(t3==0):\n",
    "        ind0=dfTr.columns.get_loc('Arrival')\n",
    "        catf.append(ind0)\n",
    "    if(t4==0):\n",
    "        ind0=dfTr.columns.get_loc('CityArrival')\n",
    "        catf.append(ind0)\n",
    "    return catf"
   ]
  },
  {
   "cell_type": "code",
   "execution_count": null,
   "metadata": {},
   "outputs": [],
   "source": [
    "#NEW ENTRY\n",
    "from sklearn.preprocessing import LabelEncoder\n",
    "from sklearn.preprocessing import OneHotEncoder\n",
    "#from sklearn.linear_model import LogisticRegression\n",
    "from sklearn.neighbors import KNeighborsClassifier\n",
    "import numpy as np\n",
    "from sklearn.metrics import f1_score\n",
    "\n",
    "df_train.drop(df_train.columns[[3,4,7,8,12]], axis=1, inplace=True)\n",
    "df_test.drop(df_test.columns[[3,4,7,8,12]], axis=1, inplace=True)\n",
    "print(df_train.columns[3])\n",
    "score=[]\n",
    "r.sort()\n",
    "k=3\n",
    "for i in range(len(r)):\n",
    "    if(len(r[i])<8):\n",
    "        dfTr = df_train.copy()\n",
    "        dfTe= df_test.copy()\n",
    "        col=whoTodrop(i)\n",
    "        #print(dfTr)\n",
    "        #print(df_train)\n",
    "        #print(col)\n",
    "        print(r[i])\n",
    "        dfTr.drop(dfTr.columns[r[i]], axis=1, inplace=True)\n",
    "        print(dfTr)\n",
    "        print(\"DF_TRAIN\")\n",
    "        print(df_train)\n",
    "        dfTe.drop(dfTe.columns[r[i]], axis=1, inplace=True)\n",
    "        cat_f = findCateg(i)\n",
    "        if cat_f:\n",
    "            print('in onehot')\n",
    "            enc = OneHotEncoder(categorical_features=cat_f,sparse=False)#check argument\n",
    "            enc.fit(dfTr)\n",
    "            X_train = enc.transform(dfTr)\n",
    "            X_test = enc.transform(dfTe)\n",
    "        else:\n",
    "            X_train = dfTr\n",
    "            X_test = dfTe\n",
    "\n",
    "        #X_train = dfTr\n",
    "        #X_test = dfTe\n",
    "        #print(X_test)\n",
    "        #clf = LogisticRegression()\n",
    "        clf = KNeighborsClassifier(k)\n",
    "        clf.fit(X_train, y_train)\n",
    "        y_pred = clf.predict(X_test)\n",
    "        scr=f1_score(y_test, y_pred, average='micro')\n",
    "        print(i,scr)\n",
    "        score.append(scr)\n",
    "    elif(i==0):\n",
    "        dfTr = df_train.copy()\n",
    "        dfTe= df_test.copy()\n",
    "        #col=whoTodrop(i)\n",
    "        cat_f = [0,1,2,3,4]\n",
    "        enc = OneHotEncoder(categorical_features=cat_f,sparse=False)#check argument\n",
    "        enc.fit(dfTr)\n",
    "        X_train = enc.transform(dfTr)\n",
    "        X_test = enc.transform(dfTe)        \n",
    "        #X_train = dfTr\n",
    "        #X_test = dfTe\n",
    "        #print(X_test)\n",
    "        clf = LogisticRegression(solver='lbfgs', multi_class='multinomial')\n",
    "        #clf = KNeighborsClassifier(k)\n",
    "        clf.fit(X_train, y_train)\n",
    "        y_pred = clf.predict(X_test)\n",
    "        scr=f1_score(y_test, y_pred, average='micro')\n",
    "        print(i,scr)\n",
    "        score.append(scr)\n",
    "    elif(len(r[i])==8):\n",
    "        score.append(0)"
   ]
  },
  {
   "cell_type": "code",
   "execution_count": null,
   "metadata": {},
   "outputs": [],
   "source": [
    "print(len(r))"
   ]
  },
  {
   "cell_type": "code",
   "execution_count": null,
   "metadata": {},
   "outputs": [],
   "source": [
    "import csv\n",
    "def calculate_dynamic_set(num_columns):\n",
    "    \n",
    "    with open('regression_resultslr', 'w', newline='') as csvfile:\n",
    "        writer = csv.writer(csvfile, delimiter=',')\n",
    "        writer.writerow(['Set to drop', 'Result'])\n",
    "        for i in range(len(r)):\n",
    "            writer.writerow([r[i], score[i]])"
   ]
  },
  {
   "cell_type": "code",
   "execution_count": null,
   "metadata": {},
   "outputs": [],
   "source": [
    "calculate_dynamic_set(8)"
   ]
  }
 ],
 "metadata": {
  "kernelspec": {
   "display_name": "Python 3",
   "language": "python",
   "name": "python3"
  },
  "language_info": {
   "codemirror_mode": {
    "name": "ipython",
    "version": 3
   },
   "file_extension": ".py",
   "mimetype": "text/x-python",
   "name": "python",
   "nbconvert_exporter": "python",
   "pygments_lexer": "ipython3",
   "version": "3.7.4"
  }
 },
 "nbformat": 4,
 "nbformat_minor": 2
}
