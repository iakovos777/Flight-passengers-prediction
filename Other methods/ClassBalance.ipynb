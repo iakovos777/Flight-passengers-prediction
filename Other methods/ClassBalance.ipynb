{
 "cells": [
  {
   "cell_type": "code",
   "execution_count": 15,
   "metadata": {},
   "outputs": [
    {
     "data": {
      "text/html": [
       "<div>\n",
       "<style scoped>\n",
       "    .dataframe tbody tr th:only-of-type {\n",
       "        vertical-align: middle;\n",
       "    }\n",
       "\n",
       "    .dataframe tbody tr th {\n",
       "        vertical-align: top;\n",
       "    }\n",
       "\n",
       "    .dataframe thead th {\n",
       "        text-align: right;\n",
       "    }\n",
       "</style>\n",
       "<table border=\"1\" class=\"dataframe\">\n",
       "  <thead>\n",
       "    <tr style=\"text-align: right;\">\n",
       "      <th></th>\n",
       "      <th>DateOfDeparture</th>\n",
       "      <th>Departure</th>\n",
       "      <th>CityDeparture</th>\n",
       "      <th>LongitudeDeparture</th>\n",
       "      <th>LatitudeDeparture</th>\n",
       "      <th>Arrival</th>\n",
       "      <th>CityArrival</th>\n",
       "      <th>LongitudeArrival</th>\n",
       "      <th>LatitudeArrival</th>\n",
       "      <th>WeeksToDeparture</th>\n",
       "      <th>std_wtd</th>\n",
       "      <th>PAX</th>\n",
       "    </tr>\n",
       "  </thead>\n",
       "  <tbody>\n",
       "    <tr>\n",
       "      <th>0</th>\n",
       "      <td>2011-12-05</td>\n",
       "      <td>ORD</td>\n",
       "      <td>Chicago</td>\n",
       "      <td>41.978603</td>\n",
       "      <td>-87.904842</td>\n",
       "      <td>EWR</td>\n",
       "      <td>Newark</td>\n",
       "      <td>40.692500</td>\n",
       "      <td>-74.168667</td>\n",
       "      <td>8.352941</td>\n",
       "      <td>5.667243</td>\n",
       "      <td>7</td>\n",
       "    </tr>\n",
       "    <tr>\n",
       "      <th>1</th>\n",
       "      <td>2013-03-01</td>\n",
       "      <td>ATL</td>\n",
       "      <td>Atlanta</td>\n",
       "      <td>33.636719</td>\n",
       "      <td>-84.428067</td>\n",
       "      <td>LGA</td>\n",
       "      <td>New York</td>\n",
       "      <td>40.777245</td>\n",
       "      <td>-73.872608</td>\n",
       "      <td>10.421053</td>\n",
       "      <td>10.001754</td>\n",
       "      <td>7</td>\n",
       "    </tr>\n",
       "    <tr>\n",
       "      <th>2</th>\n",
       "      <td>2012-02-06</td>\n",
       "      <td>ORD</td>\n",
       "      <td>Chicago</td>\n",
       "      <td>41.978603</td>\n",
       "      <td>-87.904842</td>\n",
       "      <td>BOS</td>\n",
       "      <td>Boston</td>\n",
       "      <td>42.364347</td>\n",
       "      <td>-71.005181</td>\n",
       "      <td>9.250000</td>\n",
       "      <td>7.136821</td>\n",
       "      <td>7</td>\n",
       "    </tr>\n",
       "    <tr>\n",
       "      <th>3</th>\n",
       "      <td>2012-12-10</td>\n",
       "      <td>ORD</td>\n",
       "      <td>Chicago</td>\n",
       "      <td>41.978603</td>\n",
       "      <td>-87.904842</td>\n",
       "      <td>SFO</td>\n",
       "      <td>San Francisco</td>\n",
       "      <td>37.618972</td>\n",
       "      <td>-122.374889</td>\n",
       "      <td>8.666667</td>\n",
       "      <td>7.404291</td>\n",
       "      <td>7</td>\n",
       "    </tr>\n",
       "    <tr>\n",
       "      <th>4</th>\n",
       "      <td>2012-04-13</td>\n",
       "      <td>SFO</td>\n",
       "      <td>San Francisco</td>\n",
       "      <td>37.618972</td>\n",
       "      <td>-122.374889</td>\n",
       "      <td>JFK</td>\n",
       "      <td>New York</td>\n",
       "      <td>40.639751</td>\n",
       "      <td>-73.778925</td>\n",
       "      <td>14.037037</td>\n",
       "      <td>9.858544</td>\n",
       "      <td>7</td>\n",
       "    </tr>\n",
       "  </tbody>\n",
       "</table>\n",
       "</div>"
      ],
      "text/plain": [
       "  DateOfDeparture Departure  CityDeparture  LongitudeDeparture  \\\n",
       "0      2011-12-05       ORD        Chicago           41.978603   \n",
       "1      2013-03-01       ATL        Atlanta           33.636719   \n",
       "2      2012-02-06       ORD        Chicago           41.978603   \n",
       "3      2012-12-10       ORD        Chicago           41.978603   \n",
       "4      2012-04-13       SFO  San Francisco           37.618972   \n",
       "\n",
       "   LatitudeDeparture Arrival    CityArrival  LongitudeArrival  \\\n",
       "0         -87.904842     EWR         Newark         40.692500   \n",
       "1         -84.428067     LGA       New York         40.777245   \n",
       "2         -87.904842     BOS         Boston         42.364347   \n",
       "3         -87.904842     SFO  San Francisco         37.618972   \n",
       "4        -122.374889     JFK       New York         40.639751   \n",
       "\n",
       "   LatitudeArrival  WeeksToDeparture    std_wtd  PAX  \n",
       "0       -74.168667          8.352941   5.667243    7  \n",
       "1       -73.872608         10.421053  10.001754    7  \n",
       "2       -71.005181          9.250000   7.136821    7  \n",
       "3      -122.374889          8.666667   7.404291    7  \n",
       "4       -73.778925         14.037037   9.858544    7  "
      ]
     },
     "execution_count": 15,
     "metadata": {},
     "output_type": "execute_result"
    }
   ],
   "source": [
    "import pandas as pd\n",
    "\n",
    "df_train = pd.read_csv('train.csv')\n",
    "df_train.head()"
   ]
  },
  {
   "cell_type": "code",
   "execution_count": 16,
   "metadata": {},
   "outputs": [
    {
     "name": "stdout",
     "output_type": "stream",
     "text": [
      "p0:  21.463085739970783 1910\n",
      "p1:  4.303854365659062 383\n",
      "p2:  6.472637374985954 576\n",
      "p3:  18.046971569839307 1606\n",
      "p4:  1.2248567254747724 109\n",
      "p5:  13.46218676255759 1198\n",
      "p6:  24.193729632542983 2153\n",
      "p7:  10.832677828969548 964\n",
      "all:  8899\n"
     ]
    }
   ],
   "source": [
    "p0 =0\n",
    "p1 =0\n",
    "p2 =0\n",
    "p3=0\n",
    "p4=0\n",
    "p5=0\n",
    "p6=0\n",
    "p7=0\n",
    "for i in range(len(df_train)):\n",
    "    if(df_train['PAX'][i]==0):\n",
    "        p0=p0+1\n",
    "    elif(df_train['PAX'][i]==1):\n",
    "        p1=p1+1\n",
    "    elif(df_train['PAX'][i]==2):\n",
    "        p2=p2+1\n",
    "    elif(df_train['PAX'][i]==3):\n",
    "        p3=p3+1\n",
    "    elif(df_train['PAX'][i]==4):\n",
    "        p4=p4+1\n",
    "    elif(df_train['PAX'][i]==5):\n",
    "        p5=p5+1\n",
    "    elif(df_train['PAX'][i]==6):\n",
    "        p6=p6+1\n",
    "    elif(df_train['PAX'][i]==7):\n",
    "        p7=p7+1\n",
    "print('p0: ',(p0/len(df_train))*100,p0)\n",
    "print('p1: ',(p1/len(df_train))*100,p1)\n",
    "print('p2: ',(p2/len(df_train))*100,p2)\n",
    "print('p3: ',(p3/len(df_train))*100,p3)\n",
    "print('p4: ',(p4/len(df_train))*100,p4)\n",
    "print('p5: ',(p5/len(df_train))*100,p5)\n",
    "print('p6: ',(p6/len(df_train))*100,p6)\n",
    "print('p7: ',(p7/len(df_train))*100,p7)        \n",
    "all=p0+p1+p2+p3+p4+p5+p6+p7\n",
    "all2=p0+p1+p2+p3+p4+p5+p6+p7\n",
    "print('all: ',all)"
   ]
  },
  {
   "cell_type": "code",
   "execution_count": 17,
   "metadata": {},
   "outputs": [],
   "source": [
    "maxLabel=6\n",
    "dv0=int(p6/p0)\n",
    "dv1=int(p6/p1)\n",
    "dv2=int(p6/p2)\n",
    "dv3=int(p6/p3)\n",
    "dv4=int(p6/p4)\n",
    "dv5=int(p6/p5)\n",
    "dv7=int(p6/p7)\n",
    "\n",
    "i0=0\n",
    "i1=0\n",
    "i2=0\n",
    "i3=0\n",
    "i4=0\n",
    "i5=0\n",
    "i7=0\n",
    "\n",
    "bucket0=[None]*p0\n",
    "bucket1=[None]*p1\n",
    "bucket2=[None]*p2\n",
    "bucket3=[None]*p3\n",
    "bucket4=[None]*p4\n",
    "bucket5=[None]*p5\n",
    "bucket7=[None]*p7\n",
    "for j in range(len(df_train)):\n",
    "    if(df_train['PAX'][j]==0):\n",
    "        bucket0[i0]=j\n",
    "        i0=i0+1\n",
    "    elif(df_train['PAX'][j]==1):\n",
    "        bucket1[i1]=j\n",
    "        i1=i1+1\n",
    "    elif(df_train['PAX'][j]==2):\n",
    "        bucket2[i2]=j\n",
    "        i2=i2+1\n",
    "    elif(df_train['PAX'][j]==3):\n",
    "        bucket3[i3]=j\n",
    "        i3=i3+1\n",
    "    elif(df_train['PAX'][j]==4):\n",
    "        bucket4[i4]=j\n",
    "        i4=i4+1\n",
    "    elif(df_train['PAX'][j]==5):\n",
    "        bucket5[i5]=j\n",
    "        i5=i5+1\n",
    "    elif(df_train['PAX'][j]==7):\n",
    "        bucket7[i7]=j\n",
    "        i7=i7+1\n"
   ]
  },
  {
   "cell_type": "code",
   "execution_count": 18,
   "metadata": {},
   "outputs": [
    {
     "name": "stdout",
     "output_type": "stream",
     "text": [
      "21255\n"
     ]
    }
   ],
   "source": [
    "count=all+p0*dv0+p1*dv1+p2*dv2+p3*dv3+p4*dv4+p5*dv5+p7*dv7\n",
    "print(count)\n",
    "#print(bucket1)"
   ]
  },
  {
   "cell_type": "code",
   "execution_count": 19,
   "metadata": {},
   "outputs": [],
   "source": [
    "lTr=df_train.values.tolist()"
   ]
  },
  {
   "cell_type": "code",
   "execution_count": 20,
   "metadata": {},
   "outputs": [
    {
     "name": "stdout",
     "output_type": "stream",
     "text": [
      "8899\n"
     ]
    }
   ],
   "source": [
    "\n",
    "\n",
    "#col=['DateOfDeparture', 'Departure','CityDeparture','LongitudeDeparture','LatitudeDeparture','Arrival','CityArrival','LongitudeArrival','LatitudeArrival','WeeksToDeparture','std_wtd','Distance','PAX']\n",
    "for j in range(dv0):\n",
    "    for k in range(len(bucket0)):\n",
    "        #df_train['DateOfDeparture'][i],df_train['Departure'][i],df_train['CityDeparture'][i],df_train['LongitudeDeparture'][i],df_train['LatitudeDeparture'][i],df_train['Arrival'][i],df_train['CityArrival'][i],df_train['LongitudeArrival'][i],df_train['LatitudeArrival'][i],df_train['WeeksToDeparture'][i],df_train['std_wtd'][i],mt0[i],stt0[i],cv[i],cvt0[i],disTr[i],td0[i],airportTr[i],dayTr[i],monthTr[i],yearTr[i],holTr[i],df_train['PAX'][i]]\n",
    "        ind=bucket0[k]\n",
    "        lTr.append(lTr[ind][:])\n",
    "        \n",
    "print(len(df_train))\n",
    "for j in range(dv1):\n",
    "    for k in range(len(bucket1)):\n",
    "        ind=bucket1[k]\n",
    "        lTr.append(lTr[ind][:])\n",
    "        \n",
    "        \n",
    "\n",
    "for j in range(dv2):\n",
    "    for k in range(len(bucket2)):\n",
    "        #df_train['DateOfDeparture'][i],df_train['Departure'][i],df_train['CityDeparture'][i],df_train['LongitudeDeparture'][i],df_train['LatitudeDeparture'][i],df_train['Arrival'][i],df_train['CityArrival'][i],df_train['LongitudeArrival'][i],df_train['LatitudeArrival'][i],df_train['WeeksToDeparture'][i],df_train['std_wtd'][i],mt0[i],stt0[i],cv[i],cvt0[i],disTr[i],td0[i],airportTr[i],dayTr[i],monthTr[i],yearTr[i],holTr[i],df_train['PAX'][i]]\n",
    "        ind=bucket2[k]\n",
    "        lTr.append(lTr[ind][:])\n",
    "        \n",
    "        \n",
    "for j in range(dv3):\n",
    "    for k in range(len(bucket3)):\n",
    "        #df_train['DateOfDeparture'][i],df_train['Departure'][i],df_train['CityDeparture'][i],df_train['LongitudeDeparture'][i],df_train['LatitudeDeparture'][i],df_train['Arrival'][i],df_train['CityArrival'][i],df_train['LongitudeArrival'][i],df_train['LatitudeArrival'][i],df_train['WeeksToDeparture'][i],df_train['std_wtd'][i],mt0[i],stt0[i],cv[i],cvt0[i],disTr[i],td0[i],airportTr[i],dayTr[i],monthTr[i],yearTr[i],holTr[i],df_train['PAX'][i]]\n",
    "        ind=bucket3[k]\n",
    "        lTr.append(lTr[ind][:])\n",
    "        \n",
    "        \n",
    "\n",
    "for j in range(dv4):\n",
    "    for k in range(len(bucket4)):\n",
    "        #df_train['DateOfDeparture'][i],df_train['Departure'][i],df_train['CityDeparture'][i],df_train['LongitudeDeparture'][i],df_train['LatitudeDeparture'][i],df_train['Arrival'][i],df_train['CityArrival'][i],df_train['LongitudeArrival'][i],df_train['LatitudeArrival'][i],df_train['WeeksToDeparture'][i],df_train['std_wtd'][i],mt0[i],stt0[i],cv[i],cvt0[i],disTr[i],td0[i],airportTr[i],dayTr[i],monthTr[i],yearTr[i],holTr[i],df_train['PAX'][i]]\n",
    "        ind=bucket4[k]\n",
    "        lTr.append(lTr[ind][:])\n",
    "       \n",
    "        \n",
    "\n",
    "\n",
    "for j in range(dv5):\n",
    "    for k in range(len(bucket5)):\n",
    "        #df_train['DateOfDeparture'][i],df_train['Departure'][i],df_train['CityDeparture'][i],df_train['LongitudeDeparture'][i],df_train['LatitudeDeparture'][i],df_train['Arrival'][i],df_train['CityArrival'][i],df_train['LongitudeArrival'][i],df_train['LatitudeArrival'][i],df_train['WeeksToDeparture'][i],df_train['std_wtd'][i],mt0[i],stt0[i],cv[i],cvt0[i],disTr[i],td0[i],airportTr[i],dayTr[i],monthTr[i],yearTr[i],holTr[i],df_train['PAX'][i]]\n",
    "        ind=bucket5[k]\n",
    "        lTr.append(lTr[ind][:])\n",
    "       \n",
    "        \n",
    "        \n",
    "        \n",
    "\n",
    "for j in range(dv7):\n",
    "    for k in range(len(bucket7)):\n",
    "        #df_train['DateOfDeparture'][i],df_train['Departure'][i],df_train['CityDeparture'][i],df_train['LongitudeDeparture'][i],df_train['LatitudeDeparture'][i],df_train['Arrival'][i],df_train['CityArrival'][i],df_train['LongitudeArrival'][i],df_train['LatitudeArrival'][i],df_train['WeeksToDeparture'][i],df_train['std_wtd'][i],mt0[i],stt0[i],cv[i],cvt0[i],disTr[i],td0[i],airportTr[i],dayTr[i],monthTr[i],yearTr[i],holTr[i],df_train['PAX'][i]]\n",
    "        ind=bucket7[k]\n",
    "        lTr.append(lTr[ind][:])\n",
    "  "
   ]
  },
  {
   "cell_type": "code",
   "execution_count": 21,
   "metadata": {},
   "outputs": [
    {
     "name": "stdout",
     "output_type": "stream",
     "text": [
      "21255\n"
     ]
    }
   ],
   "source": [
    "print(len(lTr))"
   ]
  },
  {
   "cell_type": "code",
   "execution_count": 23,
   "metadata": {},
   "outputs": [
    {
     "name": "stdout",
     "output_type": "stream",
     "text": [
      "SFO\n"
     ]
    }
   ],
   "source": [
    "print(lTr[9000][1])"
   ]
  },
  {
   "cell_type": "code",
   "execution_count": 24,
   "metadata": {},
   "outputs": [
    {
     "data": {
      "text/html": [
       "<div>\n",
       "<style scoped>\n",
       "    .dataframe tbody tr th:only-of-type {\n",
       "        vertical-align: middle;\n",
       "    }\n",
       "\n",
       "    .dataframe tbody tr th {\n",
       "        vertical-align: top;\n",
       "    }\n",
       "\n",
       "    .dataframe thead th {\n",
       "        text-align: right;\n",
       "    }\n",
       "</style>\n",
       "<table border=\"1\" class=\"dataframe\">\n",
       "  <thead>\n",
       "    <tr style=\"text-align: right;\">\n",
       "      <th></th>\n",
       "      <th>DateOfDeparture</th>\n",
       "      <th>Departure</th>\n",
       "      <th>CityDeparture</th>\n",
       "      <th>LongitudeDeparture</th>\n",
       "      <th>LatitudeDeparture</th>\n",
       "      <th>Arrival</th>\n",
       "      <th>CityArrival</th>\n",
       "      <th>LongitudeArrival</th>\n",
       "      <th>LatitudeArrival</th>\n",
       "      <th>WeeksToDeparture</th>\n",
       "      <th>std_wtd</th>\n",
       "      <th>PAX</th>\n",
       "    </tr>\n",
       "  </thead>\n",
       "  <tbody>\n",
       "    <tr>\n",
       "      <th>0</th>\n",
       "      <td>2011-12-05</td>\n",
       "      <td>ORD</td>\n",
       "      <td>Chicago</td>\n",
       "      <td>41.978603</td>\n",
       "      <td>-87.904842</td>\n",
       "      <td>EWR</td>\n",
       "      <td>Newark</td>\n",
       "      <td>40.692500</td>\n",
       "      <td>-74.168667</td>\n",
       "      <td>8.352941</td>\n",
       "      <td>5.667243</td>\n",
       "      <td>7</td>\n",
       "    </tr>\n",
       "    <tr>\n",
       "      <th>1</th>\n",
       "      <td>2013-03-01</td>\n",
       "      <td>ATL</td>\n",
       "      <td>Atlanta</td>\n",
       "      <td>33.636719</td>\n",
       "      <td>-84.428067</td>\n",
       "      <td>LGA</td>\n",
       "      <td>New York</td>\n",
       "      <td>40.777245</td>\n",
       "      <td>-73.872608</td>\n",
       "      <td>10.421053</td>\n",
       "      <td>10.001754</td>\n",
       "      <td>7</td>\n",
       "    </tr>\n",
       "    <tr>\n",
       "      <th>2</th>\n",
       "      <td>2012-02-06</td>\n",
       "      <td>ORD</td>\n",
       "      <td>Chicago</td>\n",
       "      <td>41.978603</td>\n",
       "      <td>-87.904842</td>\n",
       "      <td>BOS</td>\n",
       "      <td>Boston</td>\n",
       "      <td>42.364347</td>\n",
       "      <td>-71.005181</td>\n",
       "      <td>9.250000</td>\n",
       "      <td>7.136821</td>\n",
       "      <td>7</td>\n",
       "    </tr>\n",
       "    <tr>\n",
       "      <th>3</th>\n",
       "      <td>2012-12-10</td>\n",
       "      <td>ORD</td>\n",
       "      <td>Chicago</td>\n",
       "      <td>41.978603</td>\n",
       "      <td>-87.904842</td>\n",
       "      <td>SFO</td>\n",
       "      <td>San Francisco</td>\n",
       "      <td>37.618972</td>\n",
       "      <td>-122.374889</td>\n",
       "      <td>8.666667</td>\n",
       "      <td>7.404291</td>\n",
       "      <td>7</td>\n",
       "    </tr>\n",
       "    <tr>\n",
       "      <th>4</th>\n",
       "      <td>2012-04-13</td>\n",
       "      <td>SFO</td>\n",
       "      <td>San Francisco</td>\n",
       "      <td>37.618972</td>\n",
       "      <td>-122.374889</td>\n",
       "      <td>JFK</td>\n",
       "      <td>New York</td>\n",
       "      <td>40.639751</td>\n",
       "      <td>-73.778925</td>\n",
       "      <td>14.037037</td>\n",
       "      <td>9.858544</td>\n",
       "      <td>7</td>\n",
       "    </tr>\n",
       "  </tbody>\n",
       "</table>\n",
       "</div>"
      ],
      "text/plain": [
       "  DateOfDeparture Departure  CityDeparture  LongitudeDeparture  \\\n",
       "0      2011-12-05       ORD        Chicago           41.978603   \n",
       "1      2013-03-01       ATL        Atlanta           33.636719   \n",
       "2      2012-02-06       ORD        Chicago           41.978603   \n",
       "3      2012-12-10       ORD        Chicago           41.978603   \n",
       "4      2012-04-13       SFO  San Francisco           37.618972   \n",
       "\n",
       "   LatitudeDeparture Arrival    CityArrival  LongitudeArrival  \\\n",
       "0         -87.904842     EWR         Newark         40.692500   \n",
       "1         -84.428067     LGA       New York         40.777245   \n",
       "2         -87.904842     BOS         Boston         42.364347   \n",
       "3         -87.904842     SFO  San Francisco         37.618972   \n",
       "4        -122.374889     JFK       New York         40.639751   \n",
       "\n",
       "   LatitudeArrival  WeeksToDeparture    std_wtd  PAX  \n",
       "0       -74.168667          8.352941   5.667243    7  \n",
       "1       -73.872608         10.421053  10.001754    7  \n",
       "2       -71.005181          9.250000   7.136821    7  \n",
       "3      -122.374889          8.666667   7.404291    7  \n",
       "4       -73.778925         14.037037   9.858544    7  "
      ]
     },
     "execution_count": 24,
     "metadata": {},
     "output_type": "execute_result"
    }
   ],
   "source": [
    "labels=['DateOfDeparture', 'Departure','CityDeparture','LongitudeDeparture','LatitudeDeparture','Arrival','CityArrival','LongitudeArrival','LatitudeArrival','WeeksToDeparture','std_wtd','PAX']\n",
    "df_tr = pd.DataFrame.from_records(lTr, columns=labels)\n",
    "df_tr.head()"
   ]
  },
  {
   "cell_type": "code",
   "execution_count": 26,
   "metadata": {},
   "outputs": [],
   "source": [
    "import csv\n",
    "with open('train2.csv', 'w', newline='') as csvfile:\n",
    "    writer = csv.writer(csvfile, delimiter=',')\n",
    "    writer.writerow(['DateOfDeparture', 'Departure','CityDeparture','LongitudeDeparture','LatitudeDeparture','Arrival','CityArrival','LongitudeArrival','LatitudeArrival','WeeksToDeparture','std_wtd','PAX'])\n",
    "    for i in range(len(df_tr)):\n",
    "        writer.writerow([df_tr['DateOfDeparture'][i],df_tr['Departure'][i],df_tr['CityDeparture'][i],df_tr['LongitudeDeparture'][i],df_tr['LatitudeDeparture'][i],df_tr['Arrival'][i],df_tr['CityArrival'][i],df_tr['LongitudeArrival'][i],df_tr['LatitudeArrival'][i],df_tr['WeeksToDeparture'][i],df_tr['std_wtd'][i],df_tr['PAX'][i]])"
   ]
  },
  {
   "cell_type": "code",
   "execution_count": 12,
   "metadata": {},
   "outputs": [
    {
     "data": {
      "text/plain": [
       "(21255, 12)"
      ]
     },
     "execution_count": 12,
     "metadata": {},
     "output_type": "execute_result"
    }
   ],
   "source": [
    "df_tr.shape"
   ]
  },
  {
   "cell_type": "code",
   "execution_count": 27,
   "metadata": {},
   "outputs": [
    {
     "data": {
      "text/plain": [
       "0    3820\n",
       "3    3212\n",
       "7    2892\n",
       "5    2396\n",
       "2    2304\n",
       "1    2298\n",
       "4    2180\n",
       "6    2153\n",
       "Name: PAX, dtype: int64"
      ]
     },
     "execution_count": 27,
     "metadata": {},
     "output_type": "execute_result"
    }
   ],
   "source": [
    "df_tr['PAX'].value_counts()\n"
   ]
  },
  {
   "cell_type": "code",
   "execution_count": 6,
   "metadata": {},
   "outputs": [],
   "source": [
    "from sklearn.preprocessing import LabelEncoder\n",
    "\n",
    "le1 = LabelEncoder()\n",
    "le1.fit(df_train['Departure'])\n",
    "df_train['Departure'] = le1.transform(df_train['Departure'])\n",
    "df_train['Arrival'] = le1.transform(df_train['Arrival'])\n",
    "#df_test['Departure'] = le.transform(df_test['Departure'])\n",
    "#df_test['Arrival'] = le.transform(df_test['Arrival'])\n",
    "le2 = LabelEncoder()\n",
    "le2.fit(df_train['CityDeparture'])\n",
    "df_train['CityDeparture'] = le2.transform(df_train['CityDeparture'])\n",
    "df_train['CityArrival'] = le2.transform(df_train['CityArrival'])\n",
    "#df_test['CityDeparture'] = le.transform(df_test['CityDeparture'])\n",
    "#df_test['CityArrival'] = le.transform(df_test['CityArrival'])\n",
    "le3 = LabelEncoder()\n",
    "le3.fit(df_train['DateOfDeparture'])\n",
    "df_train['DateOfDeparture'] = le3.transform(df_train['DateOfDeparture'])\n",
    "#df_test['DateOfDeparture'] = le.transform(df_test['DateOfDeparture'])\n"
   ]
  },
  {
   "cell_type": "code",
   "execution_count": 7,
   "metadata": {},
   "outputs": [],
   "source": [
    "\n",
    "from imblearn.over_sampling import SMOTE\n",
    "import numpy as np\n",
    "y_train = df_train[['PAX']]\n",
    "y_train = np.ravel(y_train)\n",
    "df_train.drop(df_train.columns[[12]], axis=1, inplace=True)\n",
    "sm = SMOTE(random_state=42)\n",
    "df_trainSM, y_trainSM = sm.fit_sample(df_train, y_train)\n"
   ]
  },
  {
   "cell_type": "code",
   "execution_count": 18,
   "metadata": {},
   "outputs": [
    {
     "name": "stdout",
     "output_type": "stream",
     "text": [
      "(17224, 12)\n",
      "15.0\n",
      "   DateOfDeparture  Departure  CityDeparture  LongitudeDeparture  \\\n",
      "0               95         15              3           41.978603   \n",
      "1              547          0              0           33.636719   \n",
      "2              158         15              3           41.978603   \n",
      "3              466         15              3           41.978603   \n",
      "4              225         19             17           37.618972   \n",
      "\n",
      "   LatitudeDeparture  Arrival  CityArrival  LongitudeArrival  LatitudeArrival  \\\n",
      "0         -87.904842        6           13         40.692500       -74.168667   \n",
      "1         -84.428067       11           12         40.777245       -73.872608   \n",
      "2         -87.904842        1            1         42.364347       -71.005181   \n",
      "3         -87.904842       19           17         37.618972      -122.374889   \n",
      "4        -122.374889        8           12         40.639751       -73.778925   \n",
      "\n",
      "   WeeksToDeparture    std_wtd     Distance  \n",
      "0          8.352941   5.667243  1527.939887  \n",
      "1         10.421053  10.001754  1181.336943  \n",
      "2          9.250000   7.136821  1879.752387  \n",
      "3          8.666667   7.404291  3833.459735  \n",
      "4         14.037037   9.858544  5403.554833  \n"
     ]
    }
   ],
   "source": [
    "\n",
    "print(df_trainSM.shape)\n",
    "print(df_trainSM[0,1])\n",
    "print(df_train.head())\n"
   ]
  },
  {
   "cell_type": "code",
   "execution_count": null,
   "metadata": {},
   "outputs": [],
   "source": []
  }
 ],
 "metadata": {
  "kernelspec": {
   "display_name": "Python 3",
   "language": "python",
   "name": "python3"
  },
  "language_info": {
   "codemirror_mode": {
    "name": "ipython",
    "version": 3
   },
   "file_extension": ".py",
   "mimetype": "text/x-python",
   "name": "python",
   "nbconvert_exporter": "python",
   "pygments_lexer": "ipython3",
   "version": "3.7.4"
  }
 },
 "nbformat": 4,
 "nbformat_minor": 2
}
