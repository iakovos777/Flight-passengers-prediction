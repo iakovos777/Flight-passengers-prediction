{
 "cells": [
  {
   "cell_type": "code",
   "execution_count": 1,
   "metadata": {},
   "outputs": [
    {
     "data": {
      "text/html": [
       "<div>\n",
       "<style scoped>\n",
       "    .dataframe tbody tr th:only-of-type {\n",
       "        vertical-align: middle;\n",
       "    }\n",
       "\n",
       "    .dataframe tbody tr th {\n",
       "        vertical-align: top;\n",
       "    }\n",
       "\n",
       "    .dataframe thead th {\n",
       "        text-align: right;\n",
       "    }\n",
       "</style>\n",
       "<table border=\"1\" class=\"dataframe\">\n",
       "  <thead>\n",
       "    <tr style=\"text-align: right;\">\n",
       "      <th></th>\n",
       "      <th>DateOfDeparture</th>\n",
       "      <th>Departure</th>\n",
       "      <th>CityDeparture</th>\n",
       "      <th>LongitudeDeparture</th>\n",
       "      <th>LatitudeDeparture</th>\n",
       "      <th>Arrival</th>\n",
       "      <th>CityArrival</th>\n",
       "      <th>LongitudeArrival</th>\n",
       "      <th>LatitudeArrival</th>\n",
       "      <th>WeeksToDeparture</th>\n",
       "      <th>std_wtd</th>\n",
       "      <th>Distance</th>\n",
       "      <th>PAX</th>\n",
       "    </tr>\n",
       "  </thead>\n",
       "  <tbody>\n",
       "    <tr>\n",
       "      <th>0</th>\n",
       "      <td>2011-12-05</td>\n",
       "      <td>ORD</td>\n",
       "      <td>Chicago</td>\n",
       "      <td>41.978603</td>\n",
       "      <td>-87.904842</td>\n",
       "      <td>EWR</td>\n",
       "      <td>Newark</td>\n",
       "      <td>40.692500</td>\n",
       "      <td>-74.168667</td>\n",
       "      <td>8.352941</td>\n",
       "      <td>5.667243</td>\n",
       "      <td>1527.939887</td>\n",
       "      <td>7</td>\n",
       "    </tr>\n",
       "    <tr>\n",
       "      <th>1</th>\n",
       "      <td>2013-03-01</td>\n",
       "      <td>ATL</td>\n",
       "      <td>Atlanta</td>\n",
       "      <td>33.636719</td>\n",
       "      <td>-84.428067</td>\n",
       "      <td>LGA</td>\n",
       "      <td>New York</td>\n",
       "      <td>40.777245</td>\n",
       "      <td>-73.872608</td>\n",
       "      <td>10.421053</td>\n",
       "      <td>10.001754</td>\n",
       "      <td>1181.336943</td>\n",
       "      <td>7</td>\n",
       "    </tr>\n",
       "    <tr>\n",
       "      <th>2</th>\n",
       "      <td>2012-02-06</td>\n",
       "      <td>ORD</td>\n",
       "      <td>Chicago</td>\n",
       "      <td>41.978603</td>\n",
       "      <td>-87.904842</td>\n",
       "      <td>BOS</td>\n",
       "      <td>Boston</td>\n",
       "      <td>42.364347</td>\n",
       "      <td>-71.005181</td>\n",
       "      <td>9.250000</td>\n",
       "      <td>7.136821</td>\n",
       "      <td>1879.752387</td>\n",
       "      <td>7</td>\n",
       "    </tr>\n",
       "    <tr>\n",
       "      <th>3</th>\n",
       "      <td>2012-12-10</td>\n",
       "      <td>ORD</td>\n",
       "      <td>Chicago</td>\n",
       "      <td>41.978603</td>\n",
       "      <td>-87.904842</td>\n",
       "      <td>SFO</td>\n",
       "      <td>San Francisco</td>\n",
       "      <td>37.618972</td>\n",
       "      <td>-122.374889</td>\n",
       "      <td>8.666667</td>\n",
       "      <td>7.404291</td>\n",
       "      <td>3833.459735</td>\n",
       "      <td>7</td>\n",
       "    </tr>\n",
       "    <tr>\n",
       "      <th>4</th>\n",
       "      <td>2012-04-13</td>\n",
       "      <td>SFO</td>\n",
       "      <td>San Francisco</td>\n",
       "      <td>37.618972</td>\n",
       "      <td>-122.374889</td>\n",
       "      <td>JFK</td>\n",
       "      <td>New York</td>\n",
       "      <td>40.639751</td>\n",
       "      <td>-73.778925</td>\n",
       "      <td>14.037037</td>\n",
       "      <td>9.858544</td>\n",
       "      <td>5403.554833</td>\n",
       "      <td>7</td>\n",
       "    </tr>\n",
       "  </tbody>\n",
       "</table>\n",
       "</div>"
      ],
      "text/plain": [
       "  DateOfDeparture Departure  CityDeparture  LongitudeDeparture  \\\n",
       "0      2011-12-05       ORD        Chicago           41.978603   \n",
       "1      2013-03-01       ATL        Atlanta           33.636719   \n",
       "2      2012-02-06       ORD        Chicago           41.978603   \n",
       "3      2012-12-10       ORD        Chicago           41.978603   \n",
       "4      2012-04-13       SFO  San Francisco           37.618972   \n",
       "\n",
       "   LatitudeDeparture Arrival    CityArrival  LongitudeArrival  \\\n",
       "0         -87.904842     EWR         Newark         40.692500   \n",
       "1         -84.428067     LGA       New York         40.777245   \n",
       "2         -87.904842     BOS         Boston         42.364347   \n",
       "3         -87.904842     SFO  San Francisco         37.618972   \n",
       "4        -122.374889     JFK       New York         40.639751   \n",
       "\n",
       "   LatitudeArrival  WeeksToDeparture    std_wtd     Distance  PAX  \n",
       "0       -74.168667          8.352941   5.667243  1527.939887    7  \n",
       "1       -73.872608         10.421053  10.001754  1181.336943    7  \n",
       "2       -71.005181          9.250000   7.136821  1879.752387    7  \n",
       "3      -122.374889          8.666667   7.404291  3833.459735    7  \n",
       "4       -73.778925         14.037037   9.858544  5403.554833    7  "
      ]
     },
     "execution_count": 1,
     "metadata": {},
     "output_type": "execute_result"
    }
   ],
   "source": [
    "import pandas as pd\n",
    "\n",
    "df_train = pd.read_csv('ntrain.csv')\n",
    "df_train.head()"
   ]
  },
  {
   "cell_type": "code",
   "execution_count": 2,
   "metadata": {},
   "outputs": [
    {
     "name": "stdout",
     "output_type": "stream",
     "text": [
      "4\n"
     ]
    },
    {
     "data": {
      "text/plain": [
       "(8899, 13)"
      ]
     },
     "execution_count": 2,
     "metadata": {},
     "output_type": "execute_result"
    }
   ],
   "source": [
    "df_sorted=(df_train.sort_values(by='PAX')).copy()\n",
    "print(2**2)\n",
    "df_sorted.shape"
   ]
  },
  {
   "cell_type": "code",
   "execution_count": 3,
   "metadata": {},
   "outputs": [
    {
     "data": {
      "text/plain": [
       "(8899, 13)"
      ]
     },
     "execution_count": 3,
     "metadata": {},
     "output_type": "execute_result"
    }
   ],
   "source": [
    "size= len(df_train)\n",
    "xstd=[None]*size;\n",
    "cv=[None]*size;\n",
    "xs=[None]*size;\n",
    "s2 =[None]*size;\n",
    "for i in range(len(df_train)):\n",
    "    xstd[i]=df_train['WeeksToDeparture'][i]-2*df_train['std_wtd'][i]\n",
    "    xs[i]=df_train['WeeksToDeparture'][i]+2*df_train['std_wtd'][i]\n",
    "    cv[i]=(df_train['std_wtd'][i]/df_train['WeeksToDeparture'][i])*100\n",
    "    s2[i]= df_train['std_wtd'][i]**2\n",
    "df_train.shape"
   ]
  },
  {
   "cell_type": "code",
   "execution_count": 4,
   "metadata": {},
   "outputs": [
    {
     "name": "stdout",
     "output_type": "stream",
     "text": [
      "all:  8899\n"
     ]
    }
   ],
   "source": [
    "p0 =0\n",
    "p1 =0\n",
    "p2 =0\n",
    "p3=0\n",
    "p4=0\n",
    "p5=0\n",
    "p6=0\n",
    "p7=0\n",
    "for i in range(len(df_train)):\n",
    "    if(df_train['PAX'][i]==0):\n",
    "        p0=p0+1\n",
    "    elif(df_train['PAX'][i]==1):\n",
    "        p1=p1+1\n",
    "    elif(df_train['PAX'][i]==2):\n",
    "        p2=p2+1\n",
    "    elif(df_train['PAX'][i]==3):\n",
    "        p3=p3+1\n",
    "    elif(df_train['PAX'][i]==4):\n",
    "        p4=p4+1\n",
    "    elif(df_train['PAX'][i]==5):\n",
    "        p5=p5+1\n",
    "    elif(df_train['PAX'][i]==6):\n",
    "        p6=p6+1\n",
    "    elif(df_train['PAX'][i]==7):\n",
    "        p7=p7+1\n",
    "        \n",
    "all=p0+p1+p2+p3+p4+p5+p6+p7\n",
    "print('all: ',all)"
   ]
  },
  {
   "cell_type": "code",
   "execution_count": 5,
   "metadata": {},
   "outputs": [],
   "source": [
    "import csv\n",
    "with open('sortedTrainstd.csv', 'w', newline='') as csvfile:\n",
    "    writer = csv.writer(csvfile, delimiter=',')\n",
    "    writer.writerow(['DateOfDeparture', 'Departure','CityDeparture','Arrival','CityArrival','WeeksToDeparture','std_wtd','Distance','CV','x-std','x+std','variance','PAX'])\n",
    "    for i in range(len(df_train)):\n",
    "        if(df_train['PAX'][i]==0):\n",
    "            writer.writerow([df_train['DateOfDeparture'][i],df_train['Departure'][i],df_train['CityDeparture'][i],df_train['Arrival'][i],df_train['CityArrival'][i],df_train['WeeksToDeparture'][i],df_train['std_wtd'][i],df_train['Distance'][i],cv[i],xstd[i],xs[i],s2[i],df_train['PAX'][i]])\n",
    "    \n",
    "    for i in range(len(df_train)):\n",
    "        if(df_train['PAX'][i]==1):\n",
    "            writer.writerow([df_train['DateOfDeparture'][i],df_train['Departure'][i],df_train['CityDeparture'][i],df_train['Arrival'][i],df_train['CityArrival'][i],df_train['WeeksToDeparture'][i],df_train['std_wtd'][i],df_train['Distance'][i],cv[i],xstd[i],xs[i],s2[i],df_train['PAX'][i]])\n",
    "            \n",
    "    for i in range(len(df_train)):\n",
    "        if(df_train['PAX'][i]==2):\n",
    "            writer.writerow([df_train['DateOfDeparture'][i],df_train['Departure'][i],df_train['CityDeparture'][i],df_train['Arrival'][i],df_train['CityArrival'][i],df_train['WeeksToDeparture'][i],df_train['std_wtd'][i],df_train['Distance'][i],cv[i],xstd[i],xs[i],df_train['PAX'][i]])\n",
    "            \n",
    "    for i in range(len(df_train)):\n",
    "        if(df_train['PAX'][i]==3):\n",
    "            writer.writerow([df_train['DateOfDeparture'][i],df_train['Departure'][i],df_train['CityDeparture'][i],df_train['Arrival'][i],df_train['CityArrival'][i],df_train['WeeksToDeparture'][i],df_train['std_wtd'][i],df_train['Distance'][i],cv[i],xstd[i],xs[i],df_train['PAX'][i]])\n",
    "            \n",
    "    for i in range(len(df_train)):\n",
    "        if(df_train['PAX'][i]==4):\n",
    "            writer.writerow([df_train['DateOfDeparture'][i],df_train['Departure'][i],df_train['CityDeparture'][i],df_train['Arrival'][i],df_train['CityArrival'][i],df_train['WeeksToDeparture'][i],df_train['std_wtd'][i],df_train['Distance'][i],cv[i],xstd[i],xs[i],df_train['PAX'][i]])\n",
    "            \n",
    "    for i in range(len(df_train)):\n",
    "        if(df_train['PAX'][i]==5):\n",
    "            writer.writerow([df_train['DateOfDeparture'][i],df_train['Departure'][i],df_train['CityDeparture'][i],df_train['Arrival'][i],df_train['CityArrival'][i],df_train['WeeksToDeparture'][i],df_train['std_wtd'][i],df_train['Distance'][i],cv[i],xstd[i],xs[i],df_train['PAX'][i]])\n",
    "            \n",
    "    for i in range(len(df_train)):\n",
    "        if(df_train['PAX'][i]==6):\n",
    "            writer.writerow([df_train['DateOfDeparture'][i],df_train['Departure'][i],df_train['CityDeparture'][i],df_train['Arrival'][i],df_train['CityArrival'][i],df_train['WeeksToDeparture'][i],df_train['std_wtd'][i],df_train['Distance'][i],cv[i],xstd[i],xs[i],df_train['PAX'][i]])\n",
    "            \n",
    "    for i in range(len(df_train)):\n",
    "        if(df_train['PAX'][i]==7):\n",
    "            writer.writerow([df_train['DateOfDeparture'][i],df_train['Departure'][i],df_train['CityDeparture'][i],df_train['Arrival'][i],df_train['CityArrival'][i],df_train['WeeksToDeparture'][i],df_train['std_wtd'][i],df_train['Distance'][i],cv[i],xstd[i],xs[i],df_train['PAX'][i]])"
   ]
  },
  {
   "cell_type": "code",
   "execution_count": 6,
   "metadata": {},
   "outputs": [
    {
     "name": "stdout",
     "output_type": "stream",
     "text": [
      "7\n"
     ]
    }
   ],
   "source": [
    "print(df_sorted['PAX'][0])"
   ]
  },
  {
   "cell_type": "code",
   "execution_count": 7,
   "metadata": {},
   "outputs": [
    {
     "data": {
      "text/html": [
       "<div>\n",
       "<style scoped>\n",
       "    .dataframe tbody tr th:only-of-type {\n",
       "        vertical-align: middle;\n",
       "    }\n",
       "\n",
       "    .dataframe tbody tr th {\n",
       "        vertical-align: top;\n",
       "    }\n",
       "\n",
       "    .dataframe thead th {\n",
       "        text-align: right;\n",
       "    }\n",
       "</style>\n",
       "<table border=\"1\" class=\"dataframe\">\n",
       "  <thead>\n",
       "    <tr style=\"text-align: right;\">\n",
       "      <th></th>\n",
       "      <th>DateOfDeparture</th>\n",
       "      <th>Departure</th>\n",
       "      <th>CityDeparture</th>\n",
       "      <th>LongitudeDeparture</th>\n",
       "      <th>LatitudeDeparture</th>\n",
       "      <th>Arrival</th>\n",
       "      <th>CityArrival</th>\n",
       "      <th>LongitudeArrival</th>\n",
       "      <th>LatitudeArrival</th>\n",
       "      <th>WeeksToDeparture</th>\n",
       "      <th>std_wtd</th>\n",
       "      <th>Distance</th>\n",
       "      <th>PAX</th>\n",
       "    </tr>\n",
       "  </thead>\n",
       "  <tbody>\n",
       "    <tr>\n",
       "      <th>3799</th>\n",
       "      <td>2012-10-31</td>\n",
       "      <td>LAX</td>\n",
       "      <td>Los Angeles</td>\n",
       "      <td>33.942536</td>\n",
       "      <td>-118.408075</td>\n",
       "      <td>BOS</td>\n",
       "      <td>Boston</td>\n",
       "      <td>42.364347</td>\n",
       "      <td>-71.005181</td>\n",
       "      <td>11.444444</td>\n",
       "      <td>10.370899</td>\n",
       "      <td>5258.144904</td>\n",
       "      <td>0</td>\n",
       "    </tr>\n",
       "    <tr>\n",
       "      <th>3368</th>\n",
       "      <td>2012-01-26</td>\n",
       "      <td>SEA</td>\n",
       "      <td>Seattle</td>\n",
       "      <td>47.449000</td>\n",
       "      <td>-122.309306</td>\n",
       "      <td>ORD</td>\n",
       "      <td>Chicago</td>\n",
       "      <td>41.978603</td>\n",
       "      <td>-87.904842</td>\n",
       "      <td>8.250000</td>\n",
       "      <td>6.485882</td>\n",
       "      <td>3825.798893</td>\n",
       "      <td>0</td>\n",
       "    </tr>\n",
       "    <tr>\n",
       "      <th>6587</th>\n",
       "      <td>2012-05-29</td>\n",
       "      <td>CLT</td>\n",
       "      <td>Charlotte</td>\n",
       "      <td>35.214000</td>\n",
       "      <td>-80.943139</td>\n",
       "      <td>ATL</td>\n",
       "      <td>Atlanta</td>\n",
       "      <td>33.636719</td>\n",
       "      <td>-84.428067</td>\n",
       "      <td>10.894737</td>\n",
       "      <td>12.160477</td>\n",
       "      <td>388.234641</td>\n",
       "      <td>0</td>\n",
       "    </tr>\n",
       "    <tr>\n",
       "      <th>4402</th>\n",
       "      <td>2012-06-12</td>\n",
       "      <td>MCO</td>\n",
       "      <td>Orlando</td>\n",
       "      <td>28.429394</td>\n",
       "      <td>-81.308994</td>\n",
       "      <td>EWR</td>\n",
       "      <td>Newark</td>\n",
       "      <td>40.692500</td>\n",
       "      <td>-74.168667</td>\n",
       "      <td>12.200000</td>\n",
       "      <td>7.756718</td>\n",
       "      <td>841.068468</td>\n",
       "      <td>0</td>\n",
       "    </tr>\n",
       "    <tr>\n",
       "      <th>6578</th>\n",
       "      <td>2011-10-09</td>\n",
       "      <td>ORD</td>\n",
       "      <td>Chicago</td>\n",
       "      <td>41.978603</td>\n",
       "      <td>-87.904842</td>\n",
       "      <td>DTW</td>\n",
       "      <td>Detroit</td>\n",
       "      <td>42.212444</td>\n",
       "      <td>-83.353389</td>\n",
       "      <td>9.684211</td>\n",
       "      <td>6.708640</td>\n",
       "      <td>506.260188</td>\n",
       "      <td>0</td>\n",
       "    </tr>\n",
       "  </tbody>\n",
       "</table>\n",
       "</div>"
      ],
      "text/plain": [
       "     DateOfDeparture Departure CityDeparture  LongitudeDeparture  \\\n",
       "3799      2012-10-31       LAX   Los Angeles           33.942536   \n",
       "3368      2012-01-26       SEA       Seattle           47.449000   \n",
       "6587      2012-05-29       CLT     Charlotte           35.214000   \n",
       "4402      2012-06-12       MCO       Orlando           28.429394   \n",
       "6578      2011-10-09       ORD       Chicago           41.978603   \n",
       "\n",
       "      LatitudeDeparture Arrival CityArrival  LongitudeArrival  \\\n",
       "3799        -118.408075     BOS      Boston         42.364347   \n",
       "3368        -122.309306     ORD     Chicago         41.978603   \n",
       "6587         -80.943139     ATL     Atlanta         33.636719   \n",
       "4402         -81.308994     EWR      Newark         40.692500   \n",
       "6578         -87.904842     DTW     Detroit         42.212444   \n",
       "\n",
       "      LatitudeArrival  WeeksToDeparture    std_wtd     Distance  PAX  \n",
       "3799       -71.005181         11.444444  10.370899  5258.144904    0  \n",
       "3368       -87.904842          8.250000   6.485882  3825.798893    0  \n",
       "6587       -84.428067         10.894737  12.160477   388.234641    0  \n",
       "4402       -74.168667         12.200000   7.756718   841.068468    0  \n",
       "6578       -83.353389          9.684211   6.708640   506.260188    0  "
      ]
     },
     "execution_count": 7,
     "metadata": {},
     "output_type": "execute_result"
    }
   ],
   "source": [
    "df_sorted.head()"
   ]
  },
  {
   "cell_type": "code",
   "execution_count": 8,
   "metadata": {},
   "outputs": [
    {
     "name": "stdout",
     "output_type": "stream",
     "text": [
      "p0:  21.463085739970783\n",
      "p1:  4.303854365659062\n",
      "p2:  6.472637374985954\n",
      "p3:  18.046971569839307\n",
      "p4:  1.2248567254747724\n",
      "p5:  13.46218676255759\n",
      "p6:  24.193729632542983\n",
      "p7:  10.832677828969548\n"
     ]
    }
   ],
   "source": [
    "print('p0: ',(p0/len(df_train))*100)\n",
    "print('p1: ',(p1/len(df_train))*100)\n",
    "print('p2: ',(p2/len(df_train))*100)\n",
    "print('p3: ',(p3/len(df_train))*100)\n",
    "print('p4: ',(p4/len(df_train))*100)\n",
    "print('p5: ',(p5/len(df_train))*100)\n",
    "print('p6: ',(p6/len(df_train))*100)\n",
    "print('p7: ',(p7/len(df_train))*100)"
   ]
  },
  {
   "cell_type": "code",
   "execution_count": 9,
   "metadata": {},
   "outputs": [
    {
     "name": "stdout",
     "output_type": "stream",
     "text": [
      "100.0\n"
     ]
    }
   ],
   "source": [
    "aT=21.463085739970783+4.303854365659062+6.472637374985954+18.046971569839307+1.2248567254747724+13.46218676255759+24.193729632542983+10.832677828969548\n",
    "print(aT)"
   ]
  },
  {
   "cell_type": "code",
   "execution_count": null,
   "metadata": {},
   "outputs": [],
   "source": []
  }
 ],
 "metadata": {
  "kernelspec": {
   "display_name": "Python 3",
   "language": "python",
   "name": "python3"
  },
  "language_info": {
   "codemirror_mode": {
    "name": "ipython",
    "version": 3
   },
   "file_extension": ".py",
   "mimetype": "text/x-python",
   "name": "python",
   "nbconvert_exporter": "python",
   "pygments_lexer": "ipython3",
   "version": "3.7.4"
  }
 },
 "nbformat": 4,
 "nbformat_minor": 2
}
