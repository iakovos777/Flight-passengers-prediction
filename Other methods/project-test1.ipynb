{
 "cells": [
  {
   "cell_type": "markdown",
   "metadata": {},
   "source": [
    "# Data Challenge - Πρόβλεψη Πληρότητας Πτήσεων\n",
    "\n",
    "Στα πλαίσια της εργασίας του μαθήματος \"Εξόρυξη Γνώσης από Βάσεις Δεδομένων και τον Παγκόσμιο Ιστό\", θα δουλέψετε πάνω σε ένα πρόβλημα κατηγοριοποίησης. Συγκεκριμένα, σας δίνεται ένα σύνολο δεδομένων το οποίο αποτελείται από μερικές χιλιάδες πτήσεις, όπου κάθε πτήση περιγράφεται απο ένα σύνολο μεταβλητών (αεροδρόμιο αναχώρησης, αεροδρόμιο άφιξης, κτλ). Κάθε πτήση χαρακτηρίζεται επίσης από μια μεταβλητή που σχετίζεται με τον αριθμό των επιβατών της πτήσης (π.χ. κάθε τιμή της μεταβλητής σχετίζεται με ενα εύρος πλήθους επιβατών). Για κάποιες πτήσεις, η τιμή της μεταβλητής  είναι γνωστή, ενώ για άλλες όχι. Στόχος σας είναι να προβλέψετε την τιμή της μεταβλητής για τις πτήσεις για τις οποίες δεν είναι διαθέσιμη.\n",
    "\n",
    "### Σύνολο Δεδομένων\n",
    "\n",
    "Το αρχείο με όνομα `train.csv` περιέχει τα δεδομένα εκπαίδευσης (training set) του προβλήματος, ενώ το αρχείο `test.csv` περιέχει τα δεδομένα ελέγχου (test set) του προβλήματος. Κάθε γραμμή των δυο αυτών αρχείων αντιστοιχεί σε μια πτήση η οποία χαρακτηρίζεται από τις εξής μεταβλητές:\n",
    "\n",
    "Μεταβλητή | Περιγραφή\n",
    "--- | --- \n",
    "DateOfDeparture | Ημερομηνία αναχώρησης\n",
    "Departure | Κωδικός αεροδρομίου αναχώρησης\n",
    "CityDeparture | Πόλη αναχώρησης\n",
    "LongitudeDeparture \t | Γεωγραφικό μήκος αεροδρομίου αναχώρησης\n",
    "LatitudeDeparture \t | Γεωγραφικό πλάτος αεροδρομίου αναχώρησης\n",
    "Arrival | Κωδικός αεροδρομίου άφιξης\n",
    "CityArrival | Πόλη άφιξης\n",
    "LongitudeArrival | Γεωγραφικό μήκος αεροδρομίου άφιξης\n",
    "LatitudeArrival | Γεωγραφικό πλάτος αεροδρομίου άφιξης\n",
    "WeeksToDeparture | Πόσες εβδομάδες πριν την αναχώρηση της πτήσης κατά μέσο όρο έκλεισαν οι επιβάτες τα εισητήριά τους\n",
    "std_wtd | Τυπική απόκλιση για το παραπάνω \n",
    "Το training set περιέχει μια επιπλέον μεταβλητή (`PAX`) η οποία έχει σχέση με τον αριθμό των επιβατών της πτήσης. Η μεταβλητή αυτή παίρνει 8 διαφορετικές τιμές (τιμές από 0 έως 7 οπότε 8 κατηγορίες συνολικά). Κάθε κατηγορία υποδηλώνει πόσοι περίπου επιβάτες χρησιμοποίησαν την πτήση. Οι αριθμοί στις κατηγορίες έχουν ανατεθεί με τυχαίο τρόπο, οπότε μην θεωρήσετε ότι η κατηγορία 0 υποδηλώνει πολύ λίγους επιβάτες ενώ η κατηγορία 7 πάρα πολλούς επιβάτες. Η μεταβλητή `PAX` λείπει από το test set καθώς πρόκειται για την μεταβλητή που πρέπει να προβλέψετε στα πλαίσια της παρούσας εργασίας.\n",
    "\n",
    "Παρακάτω σας δίνεται κώδικας ο οποίος φορτώνει τα δεδομένα εκπαίδευσης σε ένα DataFrame της βιβλιοθήκης Pandas και τυπώνει τις πρώτες 5 γραμμές. Οπότε μπορείτε να δείτε τις 12 μεταβλητές του προβλήματος."
   ]
  },
  {
   "cell_type": "code",
   "execution_count": 1,
   "metadata": {},
   "outputs": [
    {
     "data": {
      "text/html": [
       "<div>\n",
       "<style scoped>\n",
       "    .dataframe tbody tr th:only-of-type {\n",
       "        vertical-align: middle;\n",
       "    }\n",
       "\n",
       "    .dataframe tbody tr th {\n",
       "        vertical-align: top;\n",
       "    }\n",
       "\n",
       "    .dataframe thead th {\n",
       "        text-align: right;\n",
       "    }\n",
       "</style>\n",
       "<table border=\"1\" class=\"dataframe\">\n",
       "  <thead>\n",
       "    <tr style=\"text-align: right;\">\n",
       "      <th></th>\n",
       "      <th>DateOfDeparture</th>\n",
       "      <th>Departure</th>\n",
       "      <th>CityDeparture</th>\n",
       "      <th>LongitudeDeparture</th>\n",
       "      <th>LatitudeDeparture</th>\n",
       "      <th>Arrival</th>\n",
       "      <th>CityArrival</th>\n",
       "      <th>LongitudeArrival</th>\n",
       "      <th>LatitudeArrival</th>\n",
       "      <th>WeeksToDeparture</th>\n",
       "      <th>...</th>\n",
       "      <th>CV</th>\n",
       "      <th>CV of norm</th>\n",
       "      <th>Distance</th>\n",
       "      <th>Norm Distance</th>\n",
       "      <th>Airports</th>\n",
       "      <th>Day</th>\n",
       "      <th>Month</th>\n",
       "      <th>Year</th>\n",
       "      <th>IsHolidays</th>\n",
       "      <th>PAX</th>\n",
       "    </tr>\n",
       "  </thead>\n",
       "  <tbody>\n",
       "    <tr>\n",
       "      <th>0</th>\n",
       "      <td>2011-12-05</td>\n",
       "      <td>ORD</td>\n",
       "      <td>Chicago</td>\n",
       "      <td>0.747393</td>\n",
       "      <td>0.671019</td>\n",
       "      <td>EWR</td>\n",
       "      <td>Newark</td>\n",
       "      <td>0.688004</td>\n",
       "      <td>0.938417</td>\n",
       "      <td>8.352941</td>\n",
       "      <td>...</td>\n",
       "      <td>0.678473</td>\n",
       "      <td>0.137959</td>\n",
       "      <td>1527.939887</td>\n",
       "      <td>0.246995</td>\n",
       "      <td>2</td>\n",
       "      <td>5</td>\n",
       "      <td>12</td>\n",
       "      <td>2011</td>\n",
       "      <td>0</td>\n",
       "      <td>7</td>\n",
       "    </tr>\n",
       "    <tr>\n",
       "      <th>1</th>\n",
       "      <td>2013-03-01</td>\n",
       "      <td>ATL</td>\n",
       "      <td>Atlanta</td>\n",
       "      <td>0.362189</td>\n",
       "      <td>0.738700</td>\n",
       "      <td>LGA</td>\n",
       "      <td>New York</td>\n",
       "      <td>0.691918</td>\n",
       "      <td>0.944181</td>\n",
       "      <td>10.421053</td>\n",
       "      <td>...</td>\n",
       "      <td>0.959764</td>\n",
       "      <td>0.418331</td>\n",
       "      <td>1181.336943</td>\n",
       "      <td>0.184571</td>\n",
       "      <td>1</td>\n",
       "      <td>1</td>\n",
       "      <td>3</td>\n",
       "      <td>2013</td>\n",
       "      <td>0</td>\n",
       "      <td>7</td>\n",
       "    </tr>\n",
       "    <tr>\n",
       "      <th>2</th>\n",
       "      <td>2012-02-06</td>\n",
       "      <td>ORD</td>\n",
       "      <td>Chicago</td>\n",
       "      <td>0.747393</td>\n",
       "      <td>0.671019</td>\n",
       "      <td>BOS</td>\n",
       "      <td>Boston</td>\n",
       "      <td>0.765205</td>\n",
       "      <td>1.000000</td>\n",
       "      <td>9.250000</td>\n",
       "      <td>...</td>\n",
       "      <td>0.771548</td>\n",
       "      <td>0.230730</td>\n",
       "      <td>1879.752387</td>\n",
       "      <td>0.310356</td>\n",
       "      <td>2</td>\n",
       "      <td>6</td>\n",
       "      <td>2</td>\n",
       "      <td>2012</td>\n",
       "      <td>0</td>\n",
       "      <td>7</td>\n",
       "    </tr>\n",
       "    <tr>\n",
       "      <th>3</th>\n",
       "      <td>2012-12-10</td>\n",
       "      <td>ORD</td>\n",
       "      <td>Chicago</td>\n",
       "      <td>0.747393</td>\n",
       "      <td>0.671019</td>\n",
       "      <td>SFO</td>\n",
       "      <td>San Francisco</td>\n",
       "      <td>0.546078</td>\n",
       "      <td>0.000000</td>\n",
       "      <td>8.666667</td>\n",
       "      <td>...</td>\n",
       "      <td>0.854341</td>\n",
       "      <td>0.313252</td>\n",
       "      <td>3833.459735</td>\n",
       "      <td>0.662220</td>\n",
       "      <td>2</td>\n",
       "      <td>10</td>\n",
       "      <td>12</td>\n",
       "      <td>2012</td>\n",
       "      <td>0</td>\n",
       "      <td>7</td>\n",
       "    </tr>\n",
       "    <tr>\n",
       "      <th>4</th>\n",
       "      <td>2012-04-13</td>\n",
       "      <td>SFO</td>\n",
       "      <td>San Francisco</td>\n",
       "      <td>0.546078</td>\n",
       "      <td>0.000000</td>\n",
       "      <td>JFK</td>\n",
       "      <td>New York</td>\n",
       "      <td>0.685569</td>\n",
       "      <td>0.946004</td>\n",
       "      <td>14.037037</td>\n",
       "      <td>...</td>\n",
       "      <td>0.702324</td>\n",
       "      <td>0.161732</td>\n",
       "      <td>5403.554833</td>\n",
       "      <td>0.944995</td>\n",
       "      <td>2</td>\n",
       "      <td>13</td>\n",
       "      <td>4</td>\n",
       "      <td>2012</td>\n",
       "      <td>0</td>\n",
       "      <td>7</td>\n",
       "    </tr>\n",
       "  </tbody>\n",
       "</table>\n",
       "<p>5 rows × 23 columns</p>\n",
       "</div>"
      ],
      "text/plain": [
       "  DateOfDeparture Departure  CityDeparture  LongitudeDeparture  \\\n",
       "0      2011-12-05       ORD        Chicago            0.747393   \n",
       "1      2013-03-01       ATL        Atlanta            0.362189   \n",
       "2      2012-02-06       ORD        Chicago            0.747393   \n",
       "3      2012-12-10       ORD        Chicago            0.747393   \n",
       "4      2012-04-13       SFO  San Francisco            0.546078   \n",
       "\n",
       "   LatitudeDeparture Arrival    CityArrival  LongitudeArrival  \\\n",
       "0           0.671019     EWR         Newark          0.688004   \n",
       "1           0.738700     LGA       New York          0.691918   \n",
       "2           0.671019     BOS         Boston          0.765205   \n",
       "3           0.671019     SFO  San Francisco          0.546078   \n",
       "4           0.000000     JFK       New York          0.685569   \n",
       "\n",
       "   LatitudeArrival  WeeksToDeparture ...         CV  CV of norm     Distance  \\\n",
       "0         0.938417          8.352941 ...   0.678473    0.137959  1527.939887   \n",
       "1         0.944181         10.421053 ...   0.959764    0.418331  1181.336943   \n",
       "2         1.000000          9.250000 ...   0.771548    0.230730  1879.752387   \n",
       "3         0.000000          8.666667 ...   0.854341    0.313252  3833.459735   \n",
       "4         0.946004         14.037037 ...   0.702324    0.161732  5403.554833   \n",
       "\n",
       "   Norm Distance  Airports  Day  Month  Year  IsHolidays  PAX  \n",
       "0       0.246995         2    5     12  2011           0    7  \n",
       "1       0.184571         1    1      3  2013           0    7  \n",
       "2       0.310356         2    6      2  2012           0    7  \n",
       "3       0.662220         2   10     12  2012           0    7  \n",
       "4       0.944995         2   13      4  2012           0    7  \n",
       "\n",
       "[5 rows x 23 columns]"
      ]
     },
     "execution_count": 1,
     "metadata": {},
     "output_type": "execute_result"
    }
   ],
   "source": [
    "import pandas as pd\n",
    "\n",
    "df_train = pd.read_csv('fTrain.csv')\n",
    "df_train.head()"
   ]
  },
  {
   "cell_type": "markdown",
   "metadata": {},
   "source": [
    "Επίσης, όσον αφορά τις διαστάσεις του training set, όπως βλέπετε παρακάτω, αποτελείται από 8899 γραμμές και 12 στήλες."
   ]
  },
  {
   "cell_type": "code",
   "execution_count": 2,
   "metadata": {},
   "outputs": [
    {
     "data": {
      "text/plain": [
       "(8899, 23)"
      ]
     },
     "execution_count": 2,
     "metadata": {},
     "output_type": "execute_result"
    }
   ],
   "source": [
    "df_train.shape"
   ]
  },
  {
   "cell_type": "markdown",
   "metadata": {},
   "source": [
    "Δηλαδή έχετε διαθέσιμα τα δεδομένα απο 8899 πτήσεις για τις οποίες ξέρετε την κατηγορία του αριθμού επιβάτών `PAX`.\n",
    "\n",
    "Αντίθετα, το αρχείο με όνομα `test.csv` περιέχει το test set του προβλήματος. Όπως και στην περίπτωση του training set, σας δίνεται και τώρα κώδικας ο οποίος φορτώνει το test set σε ένα DataFrame της βιβλιοθήκης Pandas και τυπώνει τις πρώτες 5 γραμμές του."
   ]
  },
  {
   "cell_type": "code",
   "execution_count": 3,
   "metadata": {},
   "outputs": [
    {
     "data": {
      "text/html": [
       "<div>\n",
       "<style scoped>\n",
       "    .dataframe tbody tr th:only-of-type {\n",
       "        vertical-align: middle;\n",
       "    }\n",
       "\n",
       "    .dataframe tbody tr th {\n",
       "        vertical-align: top;\n",
       "    }\n",
       "\n",
       "    .dataframe thead th {\n",
       "        text-align: right;\n",
       "    }\n",
       "</style>\n",
       "<table border=\"1\" class=\"dataframe\">\n",
       "  <thead>\n",
       "    <tr style=\"text-align: right;\">\n",
       "      <th></th>\n",
       "      <th>DateOfDeparture</th>\n",
       "      <th>Departure</th>\n",
       "      <th>CityDeparture</th>\n",
       "      <th>LongitudeDeparture</th>\n",
       "      <th>LatitudeDeparture</th>\n",
       "      <th>Arrival</th>\n",
       "      <th>CityArrival</th>\n",
       "      <th>LongitudeArrival</th>\n",
       "      <th>LatitudeArrival</th>\n",
       "      <th>WeeksToDeparture</th>\n",
       "      <th>...</th>\n",
       "      <th>Norm std</th>\n",
       "      <th>CV</th>\n",
       "      <th>CV of norm</th>\n",
       "      <th>Distance</th>\n",
       "      <th>Norm Distance</th>\n",
       "      <th>Airports</th>\n",
       "      <th>Day</th>\n",
       "      <th>Month</th>\n",
       "      <th>Year</th>\n",
       "      <th>IsHolidays</th>\n",
       "    </tr>\n",
       "  </thead>\n",
       "  <tbody>\n",
       "    <tr>\n",
       "      <th>0</th>\n",
       "      <td>2012-10-21</td>\n",
       "      <td>DFW</td>\n",
       "      <td>Dallas-Fort Worth</td>\n",
       "      <td>0.328023</td>\n",
       "      <td>0.493226</td>\n",
       "      <td>SFO</td>\n",
       "      <td>San Francisco</td>\n",
       "      <td>0.546078</td>\n",
       "      <td>0.000000</td>\n",
       "      <td>14.600000</td>\n",
       "      <td>...</td>\n",
       "      <td>0.632963</td>\n",
       "      <td>0.792866</td>\n",
       "      <td>0.178700</td>\n",
       "      <td>2821.532925</td>\n",
       "      <td>0.479971</td>\n",
       "      <td>2</td>\n",
       "      <td>21</td>\n",
       "      <td>10</td>\n",
       "      <td>2012</td>\n",
       "      <td>0</td>\n",
       "    </tr>\n",
       "    <tr>\n",
       "      <th>1</th>\n",
       "      <td>2012-09-13</td>\n",
       "      <td>LAX</td>\n",
       "      <td>Los Angeles</td>\n",
       "      <td>0.376310</td>\n",
       "      <td>0.077221</td>\n",
       "      <td>ATL</td>\n",
       "      <td>Atlanta</td>\n",
       "      <td>0.362189</td>\n",
       "      <td>0.738700</td>\n",
       "      <td>14.730769</td>\n",
       "      <td>...</td>\n",
       "      <td>0.753192</td>\n",
       "      <td>0.907237</td>\n",
       "      <td>0.268260</td>\n",
       "      <td>3779.583120</td>\n",
       "      <td>0.652517</td>\n",
       "      <td>2</td>\n",
       "      <td>13</td>\n",
       "      <td>9</td>\n",
       "      <td>2012</td>\n",
       "      <td>0</td>\n",
       "    </tr>\n",
       "    <tr>\n",
       "      <th>2</th>\n",
       "      <td>2012-09-04</td>\n",
       "      <td>ORD</td>\n",
       "      <td>Chicago</td>\n",
       "      <td>0.747393</td>\n",
       "      <td>0.671019</td>\n",
       "      <td>IAH</td>\n",
       "      <td>Houston</td>\n",
       "      <td>0.193537</td>\n",
       "      <td>0.526253</td>\n",
       "      <td>8.470588</td>\n",
       "      <td>...</td>\n",
       "      <td>0.250433</td>\n",
       "      <td>0.694822</td>\n",
       "      <td>0.101925</td>\n",
       "      <td>823.505267</td>\n",
       "      <td>0.120126</td>\n",
       "      <td>2</td>\n",
       "      <td>4</td>\n",
       "      <td>9</td>\n",
       "      <td>2012</td>\n",
       "      <td>1</td>\n",
       "    </tr>\n",
       "    <tr>\n",
       "      <th>3</th>\n",
       "      <td>2012-08-13</td>\n",
       "      <td>DEN</td>\n",
       "      <td>Denver</td>\n",
       "      <td>0.649638</td>\n",
       "      <td>0.344594</td>\n",
       "      <td>PHX</td>\n",
       "      <td>Phoenix</td>\n",
       "      <td>0.352841</td>\n",
       "      <td>0.201740</td>\n",
       "      <td>8.200000</td>\n",
       "      <td>...</td>\n",
       "      <td>0.277814</td>\n",
       "      <td>0.767421</td>\n",
       "      <td>0.158775</td>\n",
       "      <td>845.501646</td>\n",
       "      <td>0.124087</td>\n",
       "      <td>2</td>\n",
       "      <td>13</td>\n",
       "      <td>8</td>\n",
       "      <td>2012</td>\n",
       "      <td>0</td>\n",
       "    </tr>\n",
       "    <tr>\n",
       "      <th>4</th>\n",
       "      <td>2012-09-10</td>\n",
       "      <td>ORD</td>\n",
       "      <td>Chicago</td>\n",
       "      <td>0.747393</td>\n",
       "      <td>0.671019</td>\n",
       "      <td>SEA</td>\n",
       "      <td>Seattle</td>\n",
       "      <td>1.000000</td>\n",
       "      <td>0.001277</td>\n",
       "      <td>12.090909</td>\n",
       "      <td>...</td>\n",
       "      <td>0.469124</td>\n",
       "      <td>0.755829</td>\n",
       "      <td>0.149698</td>\n",
       "      <td>3825.798893</td>\n",
       "      <td>0.660840</td>\n",
       "      <td>2</td>\n",
       "      <td>10</td>\n",
       "      <td>9</td>\n",
       "      <td>2012</td>\n",
       "      <td>0</td>\n",
       "    </tr>\n",
       "  </tbody>\n",
       "</table>\n",
       "<p>5 rows × 22 columns</p>\n",
       "</div>"
      ],
      "text/plain": [
       "  DateOfDeparture Departure      CityDeparture  LongitudeDeparture  \\\n",
       "0      2012-10-21       DFW  Dallas-Fort Worth            0.328023   \n",
       "1      2012-09-13       LAX        Los Angeles            0.376310   \n",
       "2      2012-09-04       ORD            Chicago            0.747393   \n",
       "3      2012-08-13       DEN             Denver            0.649638   \n",
       "4      2012-09-10       ORD            Chicago            0.747393   \n",
       "\n",
       "   LatitudeDeparture Arrival    CityArrival  LongitudeArrival  \\\n",
       "0           0.493226     SFO  San Francisco          0.546078   \n",
       "1           0.077221     ATL        Atlanta          0.362189   \n",
       "2           0.671019     IAH        Houston          0.193537   \n",
       "3           0.344594     PHX        Phoenix          0.352841   \n",
       "4           0.671019     SEA        Seattle          1.000000   \n",
       "\n",
       "   LatitudeArrival  WeeksToDeparture     ...      Norm std        CV  \\\n",
       "0         0.000000         14.600000     ...      0.632963  0.792866   \n",
       "1         0.738700         14.730769     ...      0.753192  0.907237   \n",
       "2         0.526253          8.470588     ...      0.250433  0.694822   \n",
       "3         0.201740          8.200000     ...      0.277814  0.767421   \n",
       "4         0.001277         12.090909     ...      0.469124  0.755829   \n",
       "\n",
       "   CV of norm     Distance  Norm Distance  Airports  Day  Month  Year  \\\n",
       "0    0.178700  2821.532925       0.479971         2   21     10  2012   \n",
       "1    0.268260  3779.583120       0.652517         2   13      9  2012   \n",
       "2    0.101925   823.505267       0.120126         2    4      9  2012   \n",
       "3    0.158775   845.501646       0.124087         2   13      8  2012   \n",
       "4    0.149698  3825.798893       0.660840         2   10      9  2012   \n",
       "\n",
       "   IsHolidays  \n",
       "0           0  \n",
       "1           0  \n",
       "2           1  \n",
       "3           0  \n",
       "4           0  \n",
       "\n",
       "[5 rows x 22 columns]"
      ]
     },
     "execution_count": 3,
     "metadata": {},
     "output_type": "execute_result"
    }
   ],
   "source": [
    "df_test = pd.read_csv('fTest.csv')\n",
    "df_test.head()"
   ]
  },
  {
   "cell_type": "markdown",
   "metadata": {},
   "source": [
    "Όσον αφορά τις διαστάσεις του test set, όπως βλέπετε παρακάτω, αποτελείται από 2229 γραμμές και 11 στήλες. Η στήλη που λείπει αφορά τη μεταβλητή `PAX` την οποία στόχος σας είναι να προβλέψετε."
   ]
  },
  {
   "cell_type": "code",
   "execution_count": 4,
   "metadata": {
    "scrolled": true
   },
   "outputs": [
    {
     "data": {
      "text/plain": [
       "(2229, 22)"
      ]
     },
     "execution_count": 4,
     "metadata": {},
     "output_type": "execute_result"
    }
   ],
   "source": [
    "df_test.shape"
   ]
  },
  {
   "cell_type": "markdown",
   "metadata": {},
   "source": [
    "### Στόχος\n",
    "\n",
    "Όπως αναφέρθηκε και παραπάνω, στόχος σας είναι να προβλέψετε την κατηγορία αριθμού επιβατών (μεταβλητή `PAX`) για κάθε πτήση του test set. Πρόκειται για ένα supervised learning πρόβλημα. Θα πρέπει να επεξεργαστείτε τα δεδομένα του training set και στη συνέχεια, θα τα χρησιμοποιήσετε για να εκπαιδεύσετε κάποιο ταξινομητή, τον οποίο θα χρησιμοποιήσετε για να κάνετε προβλέψεις σχετικά με τα δεδομένα του test set.\n",
    "\n",
    "\n",
    "### Αξιολόγηση\n",
    "\n",
    "Η αξιολόγηση των προβλέψεων θα γίνει με βάση το `micro F1-score`. Το F1-score παίρνει τιμές μεταξύ 0 και 1. Όσο μεγαλύτερη η τιμή του F1-score, τόσο καλύτερος ο ταξινομητής που παρήγαγε τις προβλέψεις. Για κάθε μια από τις 8 κατηγορίες του test set μας, ο ταξινομητής θα κάνει κάποιες σωστές προβλέψεις και κάποιες λάθος. Πιο συγκεκριμένα, για μια κατηγορία $c$:\n",
    "- τα παραδείγματα που ανήκουν στην κατηγορία $c$ και ο ταξινομητής προέβλεψε ότι πράγματι ανήκουν στην κατηγορία $c$ ονομάζονται True Positives (TP).\n",
    "- τα παραδείγματα που ανήκουν στην κατηγορία $c$ και ο ταξινομητής προέβλεψε λανθασμένως ότι ανήκουν σε κάποια άλλη κατηγορία ονομάζονται False Positives (FP).\n",
    "- τα παραδείγματα που ανήκουν σε κάποια κατηγορία διαφορετική της $c$ και ο ταξινομητής προέβλεψε ότι πράγματι ανήκουν σε κάποια κατηγορία διαφορετική της $c$ ονομάζονται True Negatives (TN).\n",
    "- τα παραδείγματα που ανήκουν σε κατηγορία διαφορετική της $c$ και ο ταξινομητής προέβλεψε ότι ανήκουν στην κατηγορία $c$ ονομάζονται False Negatives (FN).\n",
    "\n",
    "Δεδομένων των παραπάνω ορισμών, μπορούμε συνήθως να υπολογίσουμε μερικές μετρικές απόδοσης του ταξινομητή μας, λαμβάνοντας υπόψη τον συνολικό (για όλες τις κατηγορίες) αριθμό True Positives (TP), False Positives (FP) και False Negatives (FN).\n",
    "Στο πρόβλημα που σας έχει ανατεθεί υπάρχουν συνολικά 8 κατηγορίες $c_1, c_2, \\ldots, c_8$ οπότε μπορούμε να υπολογίσουμε:\n",
    "Πρώτα, το `Recall` το οποίο ορίζεται ως:\n",
    "$$ Recall = \\frac{\\sum_{i=1}^8 TP_{c_i}}{\\sum_{i=1}^8TP_{c_i}+\\sum_{i=1}^8FN_{c_i}} $$\n",
    "και μετράει συνολικά το ποσοστό των παραδειγμάτων που προβλέφτηκαν ότι ανήκουν στην κατηγορία $c_i$ σε σχέση με αυτά που ανήκουν πράγματι στην κατηγορία $c_i$. Έπειτα, το `Precision` το οποίο μας λέει πόσα από τα παραδείγματα που προβλέφτηκαν ότι ανήκουν στην κατηγορία $c_i$, ανήκουν πράγματι σε αυτή την κατηγορία, και ορίζεται ως εξης:\n",
    "$$ Precision = \\frac{\\sum_{i=1}^8 TP_{c_i}}{\\sum_{i=1}^8TP_{c_i}+\\sum_{i=1}^8FP_{c_i}} $$\n",
    "\n",
    "Το `micro F1-score` ειναι ο αρμονικός μέσος του Precision και του Recall, και ορίζεται ως εξής:\n",
    "$$ micro\\text{ } F1-score =  \\frac{2*Recall*Precision}{Recall + Precision} $$\n",
    "Πρόκειται για μια ευρέως διαδεδομένη μετρική απόδοσης η οποία είναι και αξιόπιστη δεδομένου ότι λαμβάνει υπόψη τόσο τα False Positives όσο και τα False Negatives.\n",
    "\n",
    "Αφότου υποβάλετε μια λύση στην πλατφόρμα (όπως περιγράφεται παρακάτω), το micro F1-score της λύσης σας υπολογίζεται αυτόματα και εμφανίζεται στην οθόνη.\n",
    "\n",
    "### Υποβολή Λύσης\n",
    "\n",
    "Αφότου έχετε σχεδιάσει και τρέξει τον αλγοριθμό σας, και έχετε προβλέψει την κατηγορία επιβατών για κάθε πτήση του test set, πρέπει να υποβάλετε την λύση σας στην πλατφόρμα Kaggle ώστε να αξιολογηθεί. Συγκεκριμένα, στην κεντρική οθόνη υπάρχει η επιλογή `Submit Predictions` η οποία σας δίνει τη δυνατότητα να ανεβάσετε τις προβλέψεις σας. Οι προβλέψεις σας θα πρέπει να συμπεριληφθούν σε ένα αρχείο όπου κάθε γραμμή περιέχει την πρόβλεψή σας για την πτήση η οποία βρίσκεται στην ίδια γραμμή του test set. Για παράδειγμα, παρακάτω σας δίνονται οι τρείς πρώτες πτήσεις του test set:\n",
    "``` html\n",
    "2012-10-21,DFW,Dallas-Fort Worth,32.896828,-97.037997,SFO,San Francisco,37.618972,-122.374889,14.6,11.5758369028\n",
    "2012-09-13,LAX,Los Angeles,33.942536,-118.408075,ATL,Atlanta,33.636719,-84.428067,14.7307692308,13.3643037748\n",
    "2012-09-04,ORD,Chicago,41.978603,-87.904842,IAH,Houston,29.984433,-95.341442,8.47058823529,5.88555060146\n",
    "```\n",
    "Η πρώτη γραμμή του αρχείου που θα υποβάλετε θα πρέπει να περιέχει την πρόβλεψή σας για την κατηγορία αριθμού επιβατών της πρώτης πτήσης, η δεύτερη γραμμή θα πρέπει να περιέχει την πρόβλεψή σας για την δεύτερη πτήση και αντίστοιχα η τρίτη γραμμή θα πρέπει να περιέχει την πρόβλεψή σας για την τρίτη πτήση.\n",
    "\n",
    "**Προσοχή**: Στο αρχείο που θα υποβάλετε, κάθε γραμμή θα πρέπει να περιέχει 2 αριθμούς, έναν για το `Id` της πτήσης του test set και έναν για το `Label` που υποδηλώνει την κατηγορία επιβατών (αριθμοί 0-7). Επιπλέον, θα πρέπει να υπάρχουν συνολικά **2229** γραμμές όσες και οι πτήσεις για τις οποίες πρέπει να κάνετε πρόβλεψη. Τέλος, η κωδικοποίηση του αρχείου θα πρέπει να είναι **utf-8**. Φυσικά θα υπάρχει και μία ακόμη γραμμή στην αρχή που περιέχει τό όνομα των πεδίων `Id` και `Label`.\n",
    "\n",
    "### Αρχικός Κώδικας Python\n",
    "\n",
    "Σας δίνεται ένας αρχικός Python κώδικας ο οποίος χρησιμοποιεί ως μόνη πληροφορία το αεροδρόμιο από το οποίο αναχώρησε η πτήση και το αεροδρόμιο στο οποίο προσγειώθηκε για να προβλέψει την κατηγορία αριθμού επιβατών. Συγκεκριμένα, ο παρακάτω κώδικας αποθηκεύει στη μεταβλητή `y_train` τη στήλη `PAX` του training set, δηλαδή την στήλη την οποία θέλουμε να μάθουμε να προβλέπουμε. Στη συνέχεια, διαγράφει όλες τις στήλες του training set εκτός από τις `Departure` και `Arrival` οι οποίες αντιστοιχούν στους κωδικούς αεροδρομίων αναχώρησης και άφιξης. Επίσης για να είναι πιό εύκολος ο έλεγχος της λύσης σας (τοπικά), μπορείτε αν θέλετε να παράγετε ένα νέο training και test set απο το αρχικό training set, χρησιμοποιώντας την  `train_test_split` του `scikit-learn` (σχολιασμένη γραμμή παρακάτω)."
   ]
  },
  {
   "cell_type": "code",
   "execution_count": 5,
   "metadata": {},
   "outputs": [
    {
     "data": {
      "text/html": [
       "<div>\n",
       "<style scoped>\n",
       "    .dataframe tbody tr th:only-of-type {\n",
       "        vertical-align: middle;\n",
       "    }\n",
       "\n",
       "    .dataframe tbody tr th {\n",
       "        vertical-align: top;\n",
       "    }\n",
       "\n",
       "    .dataframe thead th {\n",
       "        text-align: right;\n",
       "    }\n",
       "</style>\n",
       "<table border=\"1\" class=\"dataframe\">\n",
       "  <thead>\n",
       "    <tr style=\"text-align: right;\">\n",
       "      <th></th>\n",
       "      <th>DateOfDeparture</th>\n",
       "      <th>Departure</th>\n",
       "      <th>CityDeparture</th>\n",
       "      <th>LongitudeDeparture</th>\n",
       "      <th>LatitudeDeparture</th>\n",
       "      <th>Arrival</th>\n",
       "      <th>CityArrival</th>\n",
       "      <th>LongitudeArrival</th>\n",
       "      <th>LatitudeArrival</th>\n",
       "      <th>WeeksToDeparture</th>\n",
       "      <th>...</th>\n",
       "      <th>CV</th>\n",
       "      <th>CV of norm</th>\n",
       "      <th>Distance</th>\n",
       "      <th>Norm Distance</th>\n",
       "      <th>Airports</th>\n",
       "      <th>Day</th>\n",
       "      <th>Month</th>\n",
       "      <th>Year</th>\n",
       "      <th>IsHolidays</th>\n",
       "      <th>PAX</th>\n",
       "    </tr>\n",
       "  </thead>\n",
       "  <tbody>\n",
       "    <tr>\n",
       "      <th>0</th>\n",
       "      <td>2011-12-05</td>\n",
       "      <td>ORD</td>\n",
       "      <td>Chicago</td>\n",
       "      <td>0.747393</td>\n",
       "      <td>0.671019</td>\n",
       "      <td>EWR</td>\n",
       "      <td>Newark</td>\n",
       "      <td>0.688004</td>\n",
       "      <td>0.938417</td>\n",
       "      <td>8.352941</td>\n",
       "      <td>...</td>\n",
       "      <td>0.678473</td>\n",
       "      <td>0.137959</td>\n",
       "      <td>1527.939887</td>\n",
       "      <td>0.246995</td>\n",
       "      <td>2</td>\n",
       "      <td>5</td>\n",
       "      <td>12</td>\n",
       "      <td>2011</td>\n",
       "      <td>0</td>\n",
       "      <td>7</td>\n",
       "    </tr>\n",
       "    <tr>\n",
       "      <th>1</th>\n",
       "      <td>2013-03-01</td>\n",
       "      <td>ATL</td>\n",
       "      <td>Atlanta</td>\n",
       "      <td>0.362189</td>\n",
       "      <td>0.738700</td>\n",
       "      <td>LGA</td>\n",
       "      <td>New York</td>\n",
       "      <td>0.691918</td>\n",
       "      <td>0.944181</td>\n",
       "      <td>10.421053</td>\n",
       "      <td>...</td>\n",
       "      <td>0.959764</td>\n",
       "      <td>0.418331</td>\n",
       "      <td>1181.336943</td>\n",
       "      <td>0.184571</td>\n",
       "      <td>1</td>\n",
       "      <td>1</td>\n",
       "      <td>3</td>\n",
       "      <td>2013</td>\n",
       "      <td>0</td>\n",
       "      <td>7</td>\n",
       "    </tr>\n",
       "    <tr>\n",
       "      <th>2</th>\n",
       "      <td>2012-02-06</td>\n",
       "      <td>ORD</td>\n",
       "      <td>Chicago</td>\n",
       "      <td>0.747393</td>\n",
       "      <td>0.671019</td>\n",
       "      <td>BOS</td>\n",
       "      <td>Boston</td>\n",
       "      <td>0.765205</td>\n",
       "      <td>1.000000</td>\n",
       "      <td>9.250000</td>\n",
       "      <td>...</td>\n",
       "      <td>0.771548</td>\n",
       "      <td>0.230730</td>\n",
       "      <td>1879.752387</td>\n",
       "      <td>0.310356</td>\n",
       "      <td>2</td>\n",
       "      <td>6</td>\n",
       "      <td>2</td>\n",
       "      <td>2012</td>\n",
       "      <td>0</td>\n",
       "      <td>7</td>\n",
       "    </tr>\n",
       "    <tr>\n",
       "      <th>3</th>\n",
       "      <td>2012-12-10</td>\n",
       "      <td>ORD</td>\n",
       "      <td>Chicago</td>\n",
       "      <td>0.747393</td>\n",
       "      <td>0.671019</td>\n",
       "      <td>SFO</td>\n",
       "      <td>San Francisco</td>\n",
       "      <td>0.546078</td>\n",
       "      <td>0.000000</td>\n",
       "      <td>8.666667</td>\n",
       "      <td>...</td>\n",
       "      <td>0.854341</td>\n",
       "      <td>0.313252</td>\n",
       "      <td>3833.459735</td>\n",
       "      <td>0.662220</td>\n",
       "      <td>2</td>\n",
       "      <td>10</td>\n",
       "      <td>12</td>\n",
       "      <td>2012</td>\n",
       "      <td>0</td>\n",
       "      <td>7</td>\n",
       "    </tr>\n",
       "    <tr>\n",
       "      <th>4</th>\n",
       "      <td>2012-04-13</td>\n",
       "      <td>SFO</td>\n",
       "      <td>San Francisco</td>\n",
       "      <td>0.546078</td>\n",
       "      <td>0.000000</td>\n",
       "      <td>JFK</td>\n",
       "      <td>New York</td>\n",
       "      <td>0.685569</td>\n",
       "      <td>0.946004</td>\n",
       "      <td>14.037037</td>\n",
       "      <td>...</td>\n",
       "      <td>0.702324</td>\n",
       "      <td>0.161732</td>\n",
       "      <td>5403.554833</td>\n",
       "      <td>0.944995</td>\n",
       "      <td>2</td>\n",
       "      <td>13</td>\n",
       "      <td>4</td>\n",
       "      <td>2012</td>\n",
       "      <td>0</td>\n",
       "      <td>7</td>\n",
       "    </tr>\n",
       "  </tbody>\n",
       "</table>\n",
       "<p>5 rows × 23 columns</p>\n",
       "</div>"
      ],
      "text/plain": [
       "  DateOfDeparture Departure  CityDeparture  LongitudeDeparture  \\\n",
       "0      2011-12-05       ORD        Chicago            0.747393   \n",
       "1      2013-03-01       ATL        Atlanta            0.362189   \n",
       "2      2012-02-06       ORD        Chicago            0.747393   \n",
       "3      2012-12-10       ORD        Chicago            0.747393   \n",
       "4      2012-04-13       SFO  San Francisco            0.546078   \n",
       "\n",
       "   LatitudeDeparture Arrival    CityArrival  LongitudeArrival  \\\n",
       "0           0.671019     EWR         Newark          0.688004   \n",
       "1           0.738700     LGA       New York          0.691918   \n",
       "2           0.671019     BOS         Boston          0.765205   \n",
       "3           0.671019     SFO  San Francisco          0.546078   \n",
       "4           0.000000     JFK       New York          0.685569   \n",
       "\n",
       "   LatitudeArrival  WeeksToDeparture ...         CV  CV of norm     Distance  \\\n",
       "0         0.938417          8.352941 ...   0.678473    0.137959  1527.939887   \n",
       "1         0.944181         10.421053 ...   0.959764    0.418331  1181.336943   \n",
       "2         1.000000          9.250000 ...   0.771548    0.230730  1879.752387   \n",
       "3         0.000000          8.666667 ...   0.854341    0.313252  3833.459735   \n",
       "4         0.946004         14.037037 ...   0.702324    0.161732  5403.554833   \n",
       "\n",
       "   Norm Distance  Airports  Day  Month  Year  IsHolidays  PAX  \n",
       "0       0.246995         2    5     12  2011           0    7  \n",
       "1       0.184571         1    1      3  2013           0    7  \n",
       "2       0.310356         2    6      2  2012           0    7  \n",
       "3       0.662220         2   10     12  2012           0    7  \n",
       "4       0.944995         2   13      4  2012           0    7  \n",
       "\n",
       "[5 rows x 23 columns]"
      ]
     },
     "execution_count": 5,
     "metadata": {},
     "output_type": "execute_result"
    }
   ],
   "source": [
    "df_train.head()"
   ]
  },
  {
   "cell_type": "code",
   "execution_count": 6,
   "metadata": {
    "scrolled": true
   },
   "outputs": [
    {
     "data": {
      "text/html": [
       "<div>\n",
       "<style scoped>\n",
       "    .dataframe tbody tr th:only-of-type {\n",
       "        vertical-align: middle;\n",
       "    }\n",
       "\n",
       "    .dataframe tbody tr th {\n",
       "        vertical-align: top;\n",
       "    }\n",
       "\n",
       "    .dataframe thead th {\n",
       "        text-align: right;\n",
       "    }\n",
       "</style>\n",
       "<table border=\"1\" class=\"dataframe\">\n",
       "  <thead>\n",
       "    <tr style=\"text-align: right;\">\n",
       "      <th></th>\n",
       "      <th>DateOfDeparture</th>\n",
       "      <th>CityDeparture</th>\n",
       "      <th>LongitudeDeparture</th>\n",
       "      <th>LatitudeDeparture</th>\n",
       "      <th>CityArrival</th>\n",
       "      <th>LongitudeArrival</th>\n",
       "      <th>LatitudeArrival</th>\n",
       "      <th>WeeksToDeparture</th>\n",
       "    </tr>\n",
       "  </thead>\n",
       "  <tbody>\n",
       "    <tr>\n",
       "      <th>0</th>\n",
       "      <td>2011-12-05</td>\n",
       "      <td>Chicago</td>\n",
       "      <td>0.747393</td>\n",
       "      <td>0.671019</td>\n",
       "      <td>Newark</td>\n",
       "      <td>0.688004</td>\n",
       "      <td>0.938417</td>\n",
       "      <td>8.352941</td>\n",
       "    </tr>\n",
       "    <tr>\n",
       "      <th>1</th>\n",
       "      <td>2013-03-01</td>\n",
       "      <td>Atlanta</td>\n",
       "      <td>0.362189</td>\n",
       "      <td>0.738700</td>\n",
       "      <td>New York</td>\n",
       "      <td>0.691918</td>\n",
       "      <td>0.944181</td>\n",
       "      <td>10.421053</td>\n",
       "    </tr>\n",
       "    <tr>\n",
       "      <th>2</th>\n",
       "      <td>2012-02-06</td>\n",
       "      <td>Chicago</td>\n",
       "      <td>0.747393</td>\n",
       "      <td>0.671019</td>\n",
       "      <td>Boston</td>\n",
       "      <td>0.765205</td>\n",
       "      <td>1.000000</td>\n",
       "      <td>9.250000</td>\n",
       "    </tr>\n",
       "    <tr>\n",
       "      <th>3</th>\n",
       "      <td>2012-12-10</td>\n",
       "      <td>Chicago</td>\n",
       "      <td>0.747393</td>\n",
       "      <td>0.671019</td>\n",
       "      <td>San Francisco</td>\n",
       "      <td>0.546078</td>\n",
       "      <td>0.000000</td>\n",
       "      <td>8.666667</td>\n",
       "    </tr>\n",
       "    <tr>\n",
       "      <th>4</th>\n",
       "      <td>2012-04-13</td>\n",
       "      <td>San Francisco</td>\n",
       "      <td>0.546078</td>\n",
       "      <td>0.000000</td>\n",
       "      <td>New York</td>\n",
       "      <td>0.685569</td>\n",
       "      <td>0.946004</td>\n",
       "      <td>14.037037</td>\n",
       "    </tr>\n",
       "  </tbody>\n",
       "</table>\n",
       "</div>"
      ],
      "text/plain": [
       "  DateOfDeparture  CityDeparture  LongitudeDeparture  LatitudeDeparture  \\\n",
       "0      2011-12-05        Chicago            0.747393           0.671019   \n",
       "1      2013-03-01        Atlanta            0.362189           0.738700   \n",
       "2      2012-02-06        Chicago            0.747393           0.671019   \n",
       "3      2012-12-10        Chicago            0.747393           0.671019   \n",
       "4      2012-04-13  San Francisco            0.546078           0.000000   \n",
       "\n",
       "     CityArrival  LongitudeArrival  LatitudeArrival  WeeksToDeparture  \n",
       "0         Newark          0.688004         0.938417          8.352941  \n",
       "1       New York          0.691918         0.944181         10.421053  \n",
       "2         Boston          0.765205         1.000000          9.250000  \n",
       "3  San Francisco          0.546078         0.000000          8.666667  \n",
       "4       New York          0.685569         0.946004         14.037037  "
      ]
     },
     "execution_count": 6,
     "metadata": {},
     "output_type": "execute_result"
    }
   ],
   "source": [
    "y_train = df_train[['PAX']]\n",
    "\n",
    "from sklearn.model_selection import train_test_split\n",
    "#df_train, df_test, y_train, y_test = train_test_split(df_train, y_train, test_size=0.2, random_state=42)\n",
    "\n",
    "df_train.drop(df_train.columns[[1,5,10,11,12,13,14,15,16,17,18,19,20,21,22]], axis=1, inplace=True) #best keep 0,2,6,9,distance\n",
    "\n",
    "df_train.head()"
   ]
  },
  {
   "cell_type": "markdown",
   "metadata": {},
   "source": [
    "Για να μπορεί να δουλέψει ένα αλγόριθμος ταξινόμησης είναι απαραίτητο το training και το test set να έχουν ακριβώς τον ίδιο αριθμό στηλών (ίδιες μεταβλητές). Συνεπώς, πρέπει και στο test set να διαγράψουμε όλες τις στήλες εκτός από τις Departure και Arrival. Αυτό γίνεται με τον παρακάτω κώδικα."
   ]
  },
  {
   "cell_type": "code",
   "execution_count": 7,
   "metadata": {},
   "outputs": [
    {
     "data": {
      "text/html": [
       "<div>\n",
       "<style scoped>\n",
       "    .dataframe tbody tr th:only-of-type {\n",
       "        vertical-align: middle;\n",
       "    }\n",
       "\n",
       "    .dataframe tbody tr th {\n",
       "        vertical-align: top;\n",
       "    }\n",
       "\n",
       "    .dataframe thead th {\n",
       "        text-align: right;\n",
       "    }\n",
       "</style>\n",
       "<table border=\"1\" class=\"dataframe\">\n",
       "  <thead>\n",
       "    <tr style=\"text-align: right;\">\n",
       "      <th></th>\n",
       "      <th>DateOfDeparture</th>\n",
       "      <th>CityDeparture</th>\n",
       "      <th>LongitudeDeparture</th>\n",
       "      <th>LatitudeDeparture</th>\n",
       "      <th>CityArrival</th>\n",
       "      <th>LongitudeArrival</th>\n",
       "      <th>LatitudeArrival</th>\n",
       "      <th>WeeksToDeparture</th>\n",
       "    </tr>\n",
       "  </thead>\n",
       "  <tbody>\n",
       "    <tr>\n",
       "      <th>0</th>\n",
       "      <td>2012-10-21</td>\n",
       "      <td>Dallas-Fort Worth</td>\n",
       "      <td>0.328023</td>\n",
       "      <td>0.493226</td>\n",
       "      <td>San Francisco</td>\n",
       "      <td>0.546078</td>\n",
       "      <td>0.000000</td>\n",
       "      <td>14.600000</td>\n",
       "    </tr>\n",
       "    <tr>\n",
       "      <th>1</th>\n",
       "      <td>2012-09-13</td>\n",
       "      <td>Los Angeles</td>\n",
       "      <td>0.376310</td>\n",
       "      <td>0.077221</td>\n",
       "      <td>Atlanta</td>\n",
       "      <td>0.362189</td>\n",
       "      <td>0.738700</td>\n",
       "      <td>14.730769</td>\n",
       "    </tr>\n",
       "    <tr>\n",
       "      <th>2</th>\n",
       "      <td>2012-09-04</td>\n",
       "      <td>Chicago</td>\n",
       "      <td>0.747393</td>\n",
       "      <td>0.671019</td>\n",
       "      <td>Houston</td>\n",
       "      <td>0.193537</td>\n",
       "      <td>0.526253</td>\n",
       "      <td>8.470588</td>\n",
       "    </tr>\n",
       "    <tr>\n",
       "      <th>3</th>\n",
       "      <td>2012-08-13</td>\n",
       "      <td>Denver</td>\n",
       "      <td>0.649638</td>\n",
       "      <td>0.344594</td>\n",
       "      <td>Phoenix</td>\n",
       "      <td>0.352841</td>\n",
       "      <td>0.201740</td>\n",
       "      <td>8.200000</td>\n",
       "    </tr>\n",
       "    <tr>\n",
       "      <th>4</th>\n",
       "      <td>2012-09-10</td>\n",
       "      <td>Chicago</td>\n",
       "      <td>0.747393</td>\n",
       "      <td>0.671019</td>\n",
       "      <td>Seattle</td>\n",
       "      <td>1.000000</td>\n",
       "      <td>0.001277</td>\n",
       "      <td>12.090909</td>\n",
       "    </tr>\n",
       "  </tbody>\n",
       "</table>\n",
       "</div>"
      ],
      "text/plain": [
       "  DateOfDeparture      CityDeparture  LongitudeDeparture  LatitudeDeparture  \\\n",
       "0      2012-10-21  Dallas-Fort Worth            0.328023           0.493226   \n",
       "1      2012-09-13        Los Angeles            0.376310           0.077221   \n",
       "2      2012-09-04            Chicago            0.747393           0.671019   \n",
       "3      2012-08-13             Denver            0.649638           0.344594   \n",
       "4      2012-09-10            Chicago            0.747393           0.671019   \n",
       "\n",
       "     CityArrival  LongitudeArrival  LatitudeArrival  WeeksToDeparture  \n",
       "0  San Francisco          0.546078         0.000000         14.600000  \n",
       "1        Atlanta          0.362189         0.738700         14.730769  \n",
       "2        Houston          0.193537         0.526253          8.470588  \n",
       "3        Phoenix          0.352841         0.201740          8.200000  \n",
       "4        Seattle          1.000000         0.001277         12.090909  "
      ]
     },
     "execution_count": 7,
     "metadata": {},
     "output_type": "execute_result"
    }
   ],
   "source": [
    "df_test.drop(df_test.columns[[1,5,10,11,12,13,14,15,16,17,18,19,20,21]], axis=1, inplace=True)\n",
    "\n",
    "df_test.head()"
   ]
  },
  {
   "cell_type": "markdown",
   "metadata": {},
   "source": [
    "Οι στήλες των training και test set περιέχουν κατηγορικές μεταβλητές των οποίων οι τιμές είναι αλφαριθμητικά. Οι αλγόριθμοι ταξινόμησης ωστόσο δουλεύουν μόνο με αριθμητικές τιμές. Χρησιμοποιούμε το αντικείμενο `LabelEncoder` του `scikit-learn` για να μετατρέψουμε τα αλφαριθμητικά σε αριθμητικές τιμές."
   ]
  },
  {
   "cell_type": "code",
   "execution_count": 8,
   "metadata": {},
   "outputs": [],
   "source": [
    "from sklearn.preprocessing import LabelEncoder\n",
    "\n",
    "le = LabelEncoder()\n",
    "#le.fit(df_train['Departure'])\n",
    "#df_train['Departure'] = le.transform(df_train['Departure'])\n",
    "#df_train['Arrival'] = le.transform(df_train['Arrival'])\n",
    "#df_test['Departure'] = le.transform(df_test['Departure'])\n",
    "#df_test['Arrival'] = le.transform(df_test['Arrival'])\n",
    "le.fit(df_train['CityDeparture'])\n",
    "df_train['CityDeparture'] = le.transform(df_train['CityDeparture'])\n",
    "df_train['CityArrival'] = le.transform(df_train['CityArrival'])\n",
    "df_test['CityDeparture'] = le.transform(df_test['CityDeparture'])\n",
    "df_test['CityArrival'] = le.transform(df_test['CityArrival'])\n",
    "le = LabelEncoder()\n",
    "le.fit(df_train['DateOfDeparture'])\n",
    "df_train['DateOfDeparture'] = le.transform(df_train['DateOfDeparture'])\n",
    "df_test['DateOfDeparture'] = le.transform(df_test['DateOfDeparture'])"
   ]
  },
  {
   "cell_type": "code",
   "execution_count": 9,
   "metadata": {},
   "outputs": [
    {
     "data": {
      "text/plain": [
       "'\\nfrom sklearn.decomposition import PCA\\nsamples = df_train.shape[0]\\ndim = df_train.shape[1]\\nn_components=3\\npca = PCA(n_components)\\nXtr_reduced = pca.fit_transform(df_train)\\nXte_reduced = pca.fit_transform(df_test)\\n'"
      ]
     },
     "execution_count": 9,
     "metadata": {},
     "output_type": "execute_result"
    }
   ],
   "source": [
    "#PCA\n",
    "'''\n",
    "from sklearn.decomposition import PCA\n",
    "samples = df_train.shape[0]\n",
    "dim = df_train.shape[1]\n",
    "n_components=3\n",
    "pca = PCA(n_components)\n",
    "Xtr_reduced = pca.fit_transform(df_train)\n",
    "Xte_reduced = pca.fit_transform(df_test)\n",
    "'''"
   ]
  },
  {
   "cell_type": "markdown",
   "metadata": {},
   "source": [
    "Έπειτα, εκπαιδεύουμε έναν ταξινομητή logistic regression για να προβλέψουμε τις κατηγορίες αριθμού επιβατών των δεδομένων ελέγχου. Επιπλέον, αποθηκεύουμε τις προβλέψεις μας στο αρχείο `y_pred.txt` στο δίσκο."
   ]
  },
  {
   "cell_type": "code",
   "execution_count": 10,
   "metadata": {},
   "outputs": [
    {
     "name": "stderr",
     "output_type": "stream",
     "text": [
      "C:\\Users\\IAKOVOS\\Anaconda3\\lib\\site-packages\\sklearn\\linear_model\\logistic.py:433: FutureWarning: Default solver will be changed to 'lbfgs' in 0.22. Specify a solver to silence this warning.\n",
      "  FutureWarning)\n",
      "C:\\Users\\IAKOVOS\\Anaconda3\\lib\\site-packages\\sklearn\\linear_model\\logistic.py:460: FutureWarning: Default multi_class will be changed to 'auto' in 0.22. Specify the multi_class option to silence this warning.\n",
      "  \"this warning.\", FutureWarning)\n"
     ]
    },
    {
     "data": {
      "text/plain": [
       "(8899, 8)"
      ]
     },
     "execution_count": 10,
     "metadata": {},
     "output_type": "execute_result"
    }
   ],
   "source": [
    "from sklearn.linear_model import LogisticRegression\n",
    "import numpy as np\n",
    "\n",
    "X_train = df_train\n",
    "X_test = df_test\n",
    "y_train = np.ravel(y_train)\n",
    "\n",
    "clf = LogisticRegression()\n",
    "clf.fit(X_train,y_train)\n",
    "y_pred = clf.predict(X_test)\n",
    "\n",
    "X_train.shape"
   ]
  },
  {
   "cell_type": "code",
   "execution_count": 11,
   "metadata": {},
   "outputs": [],
   "source": [
    "import csv\n",
    "with open('y_predict.csv', 'w', newline='') as csvfile:\n",
    "    writer = csv.writer(csvfile, delimiter=',')\n",
    "    writer.writerow(['Id', 'Label'])\n",
    "    for i in range(y_pred.shape[0]):\n",
    "        writer.writerow([i, y_pred[i]])"
   ]
  },
  {
   "cell_type": "code",
   "execution_count": 12,
   "metadata": {},
   "outputs": [],
   "source": [
    "from sklearn.metrics import f1_score\n",
    "#y_test = np.loadtxt('test_labels.csv', delimiter=\",\", skiprows=1, usecols=[1]) # test_labels.csv το χουν αυτοι? \n",
    "#f1_score(y_test, y_pred, average='micro')"
   ]
  },
  {
   "cell_type": "markdown",
   "metadata": {},
   "source": [
    "Υποβάλλουμε το αρχείο `y_pred.csv` στην πλατφόρμα και μας δίνει micro F1-score ίσο με 0.23.\n",
    "\n",
    "Ένας εναλλακτικός τρόπος αναπαράστασης κατηγορικών μεταβλητών είναι το λεγόμενο one-hot encoding όπου υπάρχει διαθέσιμη μια μεταβλητή για κάθε πιθανή τιμή του χαρακτηριστικού και ανάλογα με την τρέχουσα τιμή του, μια από αυτές της μεταβλητές είναι 1, ενώ όλες οι άλλες παραμένουν 0. Για παράδειγμα, αν είχαμε κάποια μεταβλητή Weekday η οποία περιέγραφε τη μέρα που έγινε μια πτήση, θα είχαμε 7 μεταβλητές (π.χ. 1000000 για Monday, 0100000 για Tuesday κτλ.). Σημειώστε ότι με την one-hot encoding αναπαράσταση ο αριθμός των χαρακτηριστικών που προκύπτει είναι ίσος με τον αριθμό των διαφορετικών τιμών που παίρνει η μεταβλητή. Παρακάτω εφαρμόζουμε one-hot encoding στις μεταβλητές `Departure` και `Arrival`."
   ]
  },
  {
   "cell_type": "code",
   "execution_count": 13,
   "metadata": {},
   "outputs": [
    {
     "name": "stderr",
     "output_type": "stream",
     "text": [
      "C:\\Users\\IAKOVOS\\Anaconda3\\lib\\site-packages\\sklearn\\preprocessing\\_encoders.py:368: FutureWarning: The handling of integer data will change in version 0.22. Currently, the categories are determined based on the range [0, max(values)], while in the future they will be determined based on the unique values.\n",
      "If you want the future behaviour and silence this warning, you can specify \"categories='auto'\".\n",
      "In case you used a LabelEncoder before this OneHotEncoder to convert the categories to integers, then you can now use the OneHotEncoder directly.\n",
      "  warnings.warn(msg, FutureWarning)\n",
      "C:\\Users\\IAKOVOS\\Anaconda3\\lib\\site-packages\\sklearn\\preprocessing\\_encoders.py:390: DeprecationWarning: The 'categorical_features' keyword is deprecated in version 0.20 and will be removed in 0.22. You can use the ColumnTransformer instead.\n",
      "  \"use the ColumnTransformer instead.\", DeprecationWarning)\n"
     ]
    },
    {
     "data": {
      "text/plain": [
       "(8899, 595)"
      ]
     },
     "execution_count": 13,
     "metadata": {},
     "output_type": "execute_result"
    }
   ],
   "source": [
    "from sklearn.preprocessing import OneHotEncoder\n",
    "cf = [0,1,4]\n",
    "enc = OneHotEncoder(categorical_features=cf,sparse=False)#categorical_features=cf,sparse=False\n",
    "enc.fit(df_train)\n",
    "#enc.fit(df_test)\n",
    "X_train = enc.transform(df_train)\n",
    "X_test = enc.transform(df_test)\n",
    "X_train.shape"
   ]
  },
  {
   "cell_type": "code",
   "execution_count": 14,
   "metadata": {},
   "outputs": [
    {
     "name": "stdout",
     "output_type": "stream",
     "text": [
      "8899\n",
      "595\n"
     ]
    }
   ],
   "source": [
    "print(X_train.shape[0])\n",
    "print(X_train.shape[1])"
   ]
  },
  {
   "cell_type": "code",
   "execution_count": 15,
   "metadata": {},
   "outputs": [
    {
     "data": {
      "text/plain": [
       "'\\nfrom sklearn.decomposition import PCA\\nsamples = X_train.shape[0]\\ndim = X_train.shape[1]\\nn_components=1\\npca = PCA()\\nXtr_reduced = pca.fit_transform(X_train)\\nXte_reduced = pca.fit_transform(X_test)\\nexplained_variance = pca.explained_variance_ratio_  \\nprint(explained_variance)\\n#Xtr_reduced2 = pca.fit_transform(X_train)\\n#Xte_reduced2 = pca.fit_transform(X_test)\\n'"
      ]
     },
     "execution_count": 15,
     "metadata": {},
     "output_type": "execute_result"
    }
   ],
   "source": [
    "#PCA\n",
    "'''\n",
    "from sklearn.decomposition import PCA\n",
    "samples = X_train.shape[0]\n",
    "dim = X_train.shape[1]\n",
    "n_components=1\n",
    "pca = PCA()\n",
    "Xtr_reduced = pca.fit_transform(X_train)\n",
    "Xte_reduced = pca.fit_transform(X_test)\n",
    "explained_variance = pca.explained_variance_ratio_  \n",
    "print(explained_variance)\n",
    "#Xtr_reduced2 = pca.fit_transform(X_train)\n",
    "#Xte_reduced2 = pca.fit_transform(X_test)\n",
    "'''"
   ]
  },
  {
   "cell_type": "code",
   "execution_count": 16,
   "metadata": {},
   "outputs": [
    {
     "data": {
      "text/plain": [
       "'\\ndef get_optimal_number_of_components():\\n    c=0\\n    j=0\\n    while(c<0.9):\\n        c=explained_variance[j]+c\\n        j=j+1\\n    return j\\ncom=get_optimal_number_of_components()\\nprint(com)\\nprint(explained_variance[0])\\npca = PCA(n_components=com)  \\nX_train = pca.fit_transform(X_train)  \\nX_test = pca.transform(X_test)  \\n'"
      ]
     },
     "execution_count": 16,
     "metadata": {},
     "output_type": "execute_result"
    }
   ],
   "source": [
    "'''\n",
    "def get_optimal_number_of_components():\n",
    "    c=0\n",
    "    j=0\n",
    "    while(c<0.9):\n",
    "        c=explained_variance[j]+c\n",
    "        j=j+1\n",
    "    return j\n",
    "com=get_optimal_number_of_components()\n",
    "print(com)\n",
    "print(explained_variance[0])\n",
    "pca = PCA(n_components=com)  \n",
    "X_train = pca.fit_transform(X_train)  \n",
    "X_test = pca.transform(X_test)  \n",
    "'''"
   ]
  },
  {
   "cell_type": "code",
   "execution_count": 29,
   "metadata": {},
   "outputs": [
    {
     "name": "stdout",
     "output_type": "stream",
     "text": [
      "[Fold 1/5]\n"
     ]
    },
    {
     "name": "stderr",
     "output_type": "stream",
     "text": [
      "C:\\Users\\IAKOVOS\\Anaconda3\\lib\\site-packages\\sklearn\\linear_model\\logistic.py:433: FutureWarning: Default solver will be changed to 'lbfgs' in 0.22. Specify a solver to silence this warning.\n",
      "  FutureWarning)\n",
      "C:\\Users\\IAKOVOS\\Anaconda3\\lib\\site-packages\\sklearn\\linear_model\\logistic.py:460: FutureWarning: Default multi_class will be changed to 'auto' in 0.22. Specify the multi_class option to silence this warning.\n",
      "  \"this warning.\", FutureWarning)\n"
     ]
    },
    {
     "name": "stdout",
     "output_type": "stream",
     "text": [
      "Fold 1/5 Prediciton:  0.3423817863397548\n",
      "[Fold 2/5]\n"
     ]
    },
    {
     "name": "stderr",
     "output_type": "stream",
     "text": [
      "C:\\Users\\IAKOVOS\\Anaconda3\\lib\\site-packages\\sklearn\\linear_model\\logistic.py:433: FutureWarning: Default solver will be changed to 'lbfgs' in 0.22. Specify a solver to silence this warning.\n",
      "  FutureWarning)\n",
      "C:\\Users\\IAKOVOS\\Anaconda3\\lib\\site-packages\\sklearn\\linear_model\\logistic.py:460: FutureWarning: Default multi_class will be changed to 'auto' in 0.22. Specify the multi_class option to silence this warning.\n",
      "  \"this warning.\", FutureWarning)\n"
     ]
    },
    {
     "name": "stdout",
     "output_type": "stream",
     "text": [
      "Fold 2/5 Prediciton:  0.3649122807017544\n",
      "[Fold 3/5]\n"
     ]
    },
    {
     "name": "stderr",
     "output_type": "stream",
     "text": [
      "C:\\Users\\IAKOVOS\\Anaconda3\\lib\\site-packages\\sklearn\\linear_model\\logistic.py:433: FutureWarning: Default solver will be changed to 'lbfgs' in 0.22. Specify a solver to silence this warning.\n",
      "  FutureWarning)\n",
      "C:\\Users\\IAKOVOS\\Anaconda3\\lib\\site-packages\\sklearn\\linear_model\\logistic.py:460: FutureWarning: Default multi_class will be changed to 'auto' in 0.22. Specify the multi_class option to silence this warning.\n",
      "  \"this warning.\", FutureWarning)\n"
     ]
    },
    {
     "name": "stdout",
     "output_type": "stream",
     "text": [
      "Fold 3/5 Prediciton:  0.3992963940193492\n",
      "[Fold 4/5]\n"
     ]
    },
    {
     "name": "stderr",
     "output_type": "stream",
     "text": [
      "C:\\Users\\IAKOVOS\\Anaconda3\\lib\\site-packages\\sklearn\\linear_model\\logistic.py:433: FutureWarning: Default solver will be changed to 'lbfgs' in 0.22. Specify a solver to silence this warning.\n",
      "  FutureWarning)\n",
      "C:\\Users\\IAKOVOS\\Anaconda3\\lib\\site-packages\\sklearn\\linear_model\\logistic.py:460: FutureWarning: Default multi_class will be changed to 'auto' in 0.22. Specify the multi_class option to silence this warning.\n",
      "  \"this warning.\", FutureWarning)\n"
     ]
    },
    {
     "name": "stdout",
     "output_type": "stream",
     "text": [
      "Fold 4/5 Prediciton:  0.3829225352112676\n",
      "[Fold 5/5]\n"
     ]
    },
    {
     "name": "stderr",
     "output_type": "stream",
     "text": [
      "C:\\Users\\IAKOVOS\\Anaconda3\\lib\\site-packages\\sklearn\\linear_model\\logistic.py:433: FutureWarning: Default solver will be changed to 'lbfgs' in 0.22. Specify a solver to silence this warning.\n",
      "  FutureWarning)\n",
      "C:\\Users\\IAKOVOS\\Anaconda3\\lib\\site-packages\\sklearn\\linear_model\\logistic.py:460: FutureWarning: Default multi_class will be changed to 'auto' in 0.22. Specify the multi_class option to silence this warning.\n",
      "  \"this warning.\", FutureWarning)\n"
     ]
    },
    {
     "name": "stdout",
     "output_type": "stream",
     "text": [
      "Fold 5/5 Prediciton:  0.3783068783068783\n"
     ]
    }
   ],
   "source": [
    "'''\n",
    "from sklearn.model_selection import StratifiedKFold\n",
    "from sklearn.linear_model import LogisticRegression\n",
    "import numpy as np\n",
    "from sklearn.metrics import f1_score\n",
    "y_train = np.ravel(y_train)\n",
    "kfold = 5\n",
    "skf = StratifiedKFold(n_splits=kfold, random_state=42)\n",
    "for i, (train_index, test_index) in enumerate(skf.split(X_train, y_train)):\n",
    "    print('[Fold %d/%d]' % (i + 1, kfold))\n",
    "    X, X_valid = X_train[train_index][:], X_train[test_index][:]\n",
    "    y, y_valid = y_train[train_index], y_train[test_index]\n",
    "    clf = LogisticRegression()\n",
    "    clf.fit(X, y)\n",
    "    y_pred = clf.predict(X_valid)\n",
    "    score=f1_score(y_valid, y_pred, average='micro')\n",
    "    print('Fold %d/%d Prediciton: ' % (i + 1, kfold), score)\n",
    "'''"
   ]
  },
  {
   "cell_type": "markdown",
   "metadata": {},
   "source": [
    "Βλέπουμε ότι ο αριθμός των στηλών αυξήθηκε από 2 σε 40. Αυτό συνέβη γιατί υπάρχουν 20 διαφορετικά αεροδρόμια και συνεπώς χρειαζόμαστε 20 μεταβλητές για να αναπαραστήσουμε κάθε μια από τις μεταβλητές `Departure` και `Arrival` χρησιμοποιώντας one-hot encoding.\n",
    "\n",
    "Έπειτα, εκπαιδεύουμε ξανά έναν ταξινομητή logistic regression για να προβλέψουμε τις κατηγορίες αριθμού επιβατών των δεδομένων ελέγχου. Επιπλέον, αποθηκεύουμε τις προβλέψεις μας στο αρχείο `y_pred.csv` στο δίσκο."
   ]
  },
  {
   "cell_type": "code",
   "execution_count": 26,
   "metadata": {},
   "outputs": [
    {
     "name": "stderr",
     "output_type": "stream",
     "text": [
      "C:\\Users\\IAKOVOS\\Anaconda3\\envs\\tensorflow\\lib\\site-packages\\sklearn\\linear_model\\logistic.py:433: FutureWarning: Default solver will be changed to 'lbfgs' in 0.22. Specify a solver to silence this warning.\n",
      "  FutureWarning)\n",
      "C:\\Users\\IAKOVOS\\Anaconda3\\envs\\tensorflow\\lib\\site-packages\\sklearn\\linear_model\\logistic.py:460: FutureWarning: Default multi_class will be changed to 'auto' in 0.22. Specify the multi_class option to silence this warning.\n",
      "  \"this warning.\", FutureWarning)\n"
     ]
    },
    {
     "name": "stdout",
     "output_type": "stream",
     "text": [
      "Coefficients (b1 and b2) of the eight logistic regression models used in One vs Rest (ovr) scheme:\n",
      " [[-5.13893402e-01 -1.64969005e-01  1.58114407e-02 ... -3.48300126e-02\n",
      "  -1.00229648e-02 -6.77989812e-03]\n",
      " [-3.37069774e-01 -1.11221882e-01 -3.94118888e-01 ...  5.59884982e-04\n",
      "   2.53750113e-02 -2.34401358e-02]\n",
      " [-4.43420273e-01 -3.67138259e-01  1.57984334e+00 ...  1.72552600e-02\n",
      "   1.44045543e-02 -1.06663069e-01]\n",
      " ...\n",
      " [-7.68448366e-01 -8.37201197e-01  1.25799869e+00 ... -2.57542542e-02\n",
      "   3.86282444e-03  9.02830070e-03]\n",
      " [ 8.17470148e-01  6.94905749e-01 -2.69184916e-01 ... -1.28886710e-02\n",
      "   1.19856994e-05 -1.68334988e-03]\n",
      " [ 6.34009912e-01 -3.51274968e-01 -7.17725973e-01 ...  3.16738783e-03\n",
      "   2.48527329e-02  4.19798024e-02]]\n",
      "Intercept (b0) of the eight logistic regression models used in One vs Rest (ovr) scheme:\n",
      " [ 0.22356953 -1.19089231 -0.11396632 -0.35427525 -0.03938063  0.08513156\n",
      " -0.19114657 -0.38742226]\n"
     ]
    }
   ],
   "source": [
    "from sklearn.linear_model import LogisticRegression\n",
    "import numpy as np\n",
    "y_train = np.ravel(y_train)\n",
    "#clf=LogisticRegression(C=0.5,solver='lbfgs', max_iter=200, multi_class='multinomial', verbose=1)\n",
    "clf = LogisticRegression()\n",
    "clf.fit(X_train, y_train)\n",
    "y_pred = clf.predict(X_test)\n",
    "print(\"Coefficients (b1 and b2) of the eight logistic regression models used in One vs Rest (ovr) scheme:\\n \"+ str(clf.coef_))\n",
    "print(\"Intercept (b0) of the eight logistic regression models used in One vs Rest (ovr) scheme:\\n \"+ str(clf.intercept_))\n",
    "#print (clf.coef_ + clf.intercept_)"
   ]
  },
  {
   "cell_type": "code",
   "execution_count": null,
   "metadata": {},
   "outputs": [],
   "source": [
    "#I MUST FIX IT\n",
    "# Plot the decision boundary\n",
    "x_min, x_max = X[:, 0].min() - 5, X[:, 0].max() + 5\n",
    "y_min, y_max = X[:, 1].min() - 5, X[:, 1].max() + 5\n",
    "\n",
    "plot_x = np.array([x_min, x_max])\n",
    "plot_y = (- 1.0 / logreg.coef_[0,1]) * (logreg.coef_[0,0] * plot_x + logreg.intercept_)\n",
    "plt.plot(plot_x, plot_y)\n",
    "plt.scatter(X[:, 0], X[:, 1], c=y, cmap=custom_cmap)\n",
    "plt.xlabel('Exam 1 score')\n",
    "plt.ylabel('Exam 2 score')\n",
    "\n",
    "plt.xlim(x_min, x_max)\n",
    "plt.ylim(y_min, y_max)"
   ]
  },
  {
   "cell_type": "code",
   "execution_count": 27,
   "metadata": {},
   "outputs": [],
   "source": [
    "import csv\n",
    "with open('y_predlr.csv', 'w', newline='') as csvfile:\n",
    "    writer = csv.writer(csvfile, delimiter=',')\n",
    "    writer.writerow(['Id', 'Label'])\n",
    "    for i in range(y_pred.shape[0]):\n",
    "        writer.writerow([i, y_pred[i]])"
   ]
  },
  {
   "cell_type": "code",
   "execution_count": null,
   "metadata": {},
   "outputs": [],
   "source": [
    "#f1_score(y_test, y_pred, average='micro')"
   ]
  },
  {
   "cell_type": "markdown",
   "metadata": {},
   "source": [
    "Υποβάλλουμε το αρχείο `y_pred.csv` στην πλατφόρμα και μας δίνει macro F1-score ίσο με 0.33. Στα πλαίσια της παρούσας εργασίας καλείστε να τροποποιήσετε τον παραπάνω κώδικα ώστε να προβλέψετε τις κατηγορίες αριθμού επιβατών των πτήσεων του test set. Μπορείτε να εφαρμόσετε κάποια μέθοδο επιλογής χαρακτηριστικών στα δεδομένα ώστε να κρατήσετε\n",
    "μόνο ένα υποσύνολο από τα χαρακτηριστικά. Μπορείτε επίσης να δημιουργήσετε νέα χαρακτηριστικά τα οποία\n",
    "ίσως βοηθήσουν στην κατηγοριοποίηση. Μπορείτε επιπλέον να πειραματιστείτε με κάποια μέθοδο μείωσης\n",
    "διάστασης και να διερευνήσετε αν η εφαρμογή της βελτιώνει το αποτέλεσμα της κατηγοριοποίησης. Επίσης,\n",
    "μπορείτε να χρησιμοποιήσετε θορυβώδη ή ανούσια χαρακτηριστικά για να παράγετε νέα χαρακτηριστικά που\n",
    "παρέχουν μεγαλύτερα ποσοστά πληροφορίας. Μπορείτε να χρησιμοποιήσετε διαφορετικούς ταξινομητές ή να συνδυάσετε τα αποτελέσματα περισσότερων από έναν ταξινομητές. \n",
    "\n",
    "### Παράδοση Εργασίας\n",
    "\n",
    "Η εργασία είναι είτε ατομική ή μπορεί να γίνει σε ομάδες το πολύ 3 ατόμων. Η τελική αξιολόγηση θα βασίζεται τόσο στο micro F1-score που θα επιτύχετε, όσο και στη συνολική προσέγγισή σας στο πρόβλημα. Στα πλαίσια της εργασίας, θα πρέπει να υποβληθούν τα εξής:\n",
    "<ul>\n",
    "    <li>Μια αναφορά 2 σελίδων, στην οποία θα πρέπει να περιγράψετε την προσέγγιση και τις μεθόδους που χρησιμοποιήσατε. Δεδομένου ότι πρόκειται για ένα πραγματικό πρόβλημα ταξινόμησης, μας ενδιαφέρει να γνωρίζουμε πώς αντιμετωπίσατε κάθε στάδιο του προβλήματος, π.χ. τι είδους αναπαράσταση δεδομένων χρησιμοποιήσατε, τι χαρακτηριστικά χρησιμοποιήσατε, εάν εφαρμόσατε τεχνικές μείωσης διάστασης, ποιούς αλγορίθμους ταξινόμησης δοκιμάσατε και γιατί, την απόδοση των μεθόδων σας (macro F1-score και χρόνο εκπαίδευσης), τυχόν προσεγγίσεις που τελικά δεν λειτούργησαν, αλλά\n",
    "είναι ενδιαφέρον να παρουσιάσετε, και γενικά, ότι νομίζετε ότι είναι ενδιαφέρον να αναφερθεί.</li>\n",
    "    <li>Ενα φάκελο με τον κώδικα της εφαρμογής σας.</li>\n",
    "    <li>Εναλλακτικά μπορείτε να συνδυάσετε τα δυο παραπάνω σε ένα αρχείο Ipython Notebook.</li>\n",
    "    <li>Δημιουργήστε ένα αρχείο .zip που περιέχει τον κώδικα και την αναφορά και υποβάλετέ τον στην πλατφόρμα e-class.</li>\n",
    "    <li>**Λήξη προθεσμίας**: 6 Ιανουαρίου 2019.</li>\n",
    "</ul>"
   ]
  }
 ],
 "metadata": {
  "anaconda-cloud": {},
  "kernelspec": {
   "display_name": "Python 3",
   "language": "python",
   "name": "python3"
  },
  "language_info": {
   "codemirror_mode": {
    "name": "ipython",
    "version": 3
   },
   "file_extension": ".py",
   "mimetype": "text/x-python",
   "name": "python",
   "nbconvert_exporter": "python",
   "pygments_lexer": "ipython3",
   "version": "3.7.4"
  }
 },
 "nbformat": 4,
 "nbformat_minor": 1
}
